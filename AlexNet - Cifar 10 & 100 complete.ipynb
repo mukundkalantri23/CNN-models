{
 "cells": [
  {
   "cell_type": "markdown",
   "metadata": {},
   "source": [
    "# ALEXNET"
   ]
  },
  {
   "cell_type": "code",
   "execution_count": 1,
   "metadata": {},
   "outputs": [],
   "source": [
    "c10_class_name = ['airplane', 'automobile', 'bird', 'cat', 'deer', 'dog', 'frog', 'horse', 'ship', 'truck']\n",
    "c100_class_name = ['apple', 'aquarium_fish', 'baby', 'bear', 'beaver', 'bed', 'bee', 'beetle', 'bicycle', 'bottle', 'bowl', 'boy', 'bridge', 'bus', 'butterfly', \n",
    "                   'camel', 'can', 'castle', 'caterpillar', 'cattle', 'chair', 'chimpanzee', 'clock', 'cloud', 'cockroach', 'couch', 'crab', 'crocodile', 'cup', \n",
    "                   'dinosaur', 'dolphin', 'elephant', 'flatfish', 'forest', 'fox', 'girl', 'hamster', 'house', 'kangaroo', 'keyboard', 'lamp', 'lawn_mower', \n",
    "                   'leopard', 'lion', 'lizard', 'lobster', 'man', 'maple_tree', 'motorcycle', 'mountain', 'mouse','mushroom', 'oak_tree', 'orange', 'orchid', \n",
    "                   'otter', 'palm_tree', 'pear', 'pickup_truck', 'pine_tree', 'plain', 'plate', 'poppy', 'porcupine', 'possum', 'rabbit', 'raccoon', 'ray', 'road', \n",
    "                   'rocket', 'rose', 'sea', 'seal', 'shark', 'shrew', 'skunk', 'skyscraper', 'snail', 'snake', 'spider', 'squirrel', 'streetcar', 'sunflower', \n",
    "                   'sweet_pepper', 'table', 'tank', 'telephone', 'television', 'tiger', 'tractor', 'train', 'trout', 'tulip', 'turtle', 'wardrobe', 'whale', \n",
    "                   'willow_tree', 'wolf', 'woman', 'worm']"
   ]
  },
  {
   "cell_type": "markdown",
   "metadata": {},
   "source": [
    "## With default image size of dataset (32,32,3)"
   ]
  },
  {
   "cell_type": "code",
   "execution_count": 2,
   "metadata": {},
   "outputs": [
    {
     "name": "stderr",
     "output_type": "stream",
     "text": [
      "Using TensorFlow backend.\n"
     ]
    }
   ],
   "source": [
    "#!pip install scikit-image\n",
    "import keras\n",
    "import numpy as np\n",
    "import skimage.transform\n",
    "from keras.datasets import cifar10, cifar100\n",
    "from keras.preprocessing.image import ImageDataGenerator\n",
    "from keras.models import Sequential\n",
    "from keras.layers import Dense, Dropout, Activation, Flatten, BatchNormalization\n",
    "from keras.layers import Conv2D, MaxPooling2D, GlobalAveragePooling2D, AveragePooling2D, ZeroPadding2D\n",
    "from keras import optimizers\n",
    "from keras.layers.normalization import BatchNormalization"
   ]
  },
  {
   "cell_type": "code",
   "execution_count": 3,
   "metadata": {},
   "outputs": [],
   "source": [
    "def Alexnet(input_shape, num_classes):\n",
    "    alexnet = Sequential()\n",
    "    alexnet.add(Conv2D(filters=96,kernel_size=(3,3),strides=(4,4),input_shape=input_shape, activation='relu'))\n",
    "    alexnet.add(BatchNormalization())\n",
    "    alexnet.add(MaxPooling2D(pool_size=(2,2),strides=(2,2)))\n",
    "    alexnet.add(Conv2D(256,(5,5),padding='same',activation='relu'))\n",
    "    alexnet.add(BatchNormalization())\n",
    "    alexnet.add(MaxPooling2D(pool_size=(2,2),strides=(2,2)))\n",
    "    alexnet.add(Conv2D(384,(3,3),padding='same',activation='relu'))\n",
    "    alexnet.add(Conv2D(384,(3,3),padding='same',activation='relu'))\n",
    "    alexnet.add(Conv2D(256,(3,3),padding='same',activation='relu'))\n",
    "    alexnet.add(MaxPooling2D(pool_size=(2,2),strides=(2,2)))\n",
    "    alexnet.add(Flatten())\n",
    "    alexnet.add(Dense(4096, activation='relu'))\n",
    "    alexnet.add(Dropout(0.4))\n",
    "    alexnet.add(Dense(4096, activation='relu'))\n",
    "    alexnet.add(Dropout(0.4))\n",
    "    alexnet.add(Dense(num_classes,activation='softmax'))\n",
    "\n",
    "    opt = keras.optimizers.Adam(learning_rate=0.0001)\n",
    "    alexnet.compile(optimizer=opt,loss='categorical_crossentropy',metrics=['accuracy'])\n",
    "    return alexnet"
   ]
  },
  {
   "cell_type": "markdown",
   "metadata": {},
   "source": [
    "### CIFAR - 10"
   ]
  },
  {
   "cell_type": "code",
   "execution_count": 4,
   "metadata": {},
   "outputs": [
    {
     "name": "stdout",
     "output_type": "stream",
     "text": [
      "(50000, 32, 32, 3) (10000, 32, 32, 3) (50000, 10) (10000, 10)\n"
     ]
    }
   ],
   "source": [
    "# Load data\n",
    "(c10_x_train_orig, c10_y_train_orig), (c10_x_test_orig, c10_y_test_orig) = cifar10.load_data()\n",
    "\n",
    "# Pre-processing X\n",
    "c10_x_train = c10_x_train_orig.astype('float32')\n",
    "c10_x_test = c10_x_test_orig.astype('float32')\n",
    "c10_x_train = c10_x_train/255\n",
    "c10_x_test = c10_x_test/255\n",
    "\n",
    "# Hyper-parameters\n",
    "c10_epochs = 25\n",
    "c10_batch_size = 128\n",
    "c10_num_classes = 10\n",
    "c10_input_shape = c10_x_train.shape[1:]\n",
    "\n",
    "# Pre-processing Y\n",
    "c10_y_train = keras.utils.to_categorical(c10_y_train_orig, c10_num_classes)\n",
    "c10_y_test = keras.utils.to_categorical(c10_y_test_orig, c10_num_classes)\n",
    "\n",
    "print(c10_x_train.shape, c10_x_test.shape, c10_y_train.shape, c10_y_test.shape)"
   ]
  },
  {
   "cell_type": "code",
   "execution_count": 5,
   "metadata": {},
   "outputs": [
    {
     "name": "stdout",
     "output_type": "stream",
     "text": [
      "Model: \"sequential_1\"\n",
      "_________________________________________________________________\n",
      "Layer (type)                 Output Shape              Param #   \n",
      "=================================================================\n",
      "conv2d_1 (Conv2D)            (None, 8, 8, 96)          2688      \n",
      "_________________________________________________________________\n",
      "batch_normalization_1 (Batch (None, 8, 8, 96)          384       \n",
      "_________________________________________________________________\n",
      "max_pooling2d_1 (MaxPooling2 (None, 4, 4, 96)          0         \n",
      "_________________________________________________________________\n",
      "conv2d_2 (Conv2D)            (None, 4, 4, 256)         614656    \n",
      "_________________________________________________________________\n",
      "batch_normalization_2 (Batch (None, 4, 4, 256)         1024      \n",
      "_________________________________________________________________\n",
      "max_pooling2d_2 (MaxPooling2 (None, 2, 2, 256)         0         \n",
      "_________________________________________________________________\n",
      "conv2d_3 (Conv2D)            (None, 2, 2, 384)         885120    \n",
      "_________________________________________________________________\n",
      "conv2d_4 (Conv2D)            (None, 2, 2, 384)         1327488   \n",
      "_________________________________________________________________\n",
      "conv2d_5 (Conv2D)            (None, 2, 2, 256)         884992    \n",
      "_________________________________________________________________\n",
      "max_pooling2d_3 (MaxPooling2 (None, 1, 1, 256)         0         \n",
      "_________________________________________________________________\n",
      "flatten_1 (Flatten)          (None, 256)               0         \n",
      "_________________________________________________________________\n",
      "dense_1 (Dense)              (None, 4096)              1052672   \n",
      "_________________________________________________________________\n",
      "dropout_1 (Dropout)          (None, 4096)              0         \n",
      "_________________________________________________________________\n",
      "dense_2 (Dense)              (None, 4096)              16781312  \n",
      "_________________________________________________________________\n",
      "dropout_2 (Dropout)          (None, 4096)              0         \n",
      "_________________________________________________________________\n",
      "dense_3 (Dense)              (None, 10)                40970     \n",
      "=================================================================\n",
      "Total params: 21,591,306\n",
      "Trainable params: 21,590,602\n",
      "Non-trainable params: 704\n",
      "_________________________________________________________________\n"
     ]
    }
   ],
   "source": [
    "c10_alexnet = Alexnet(c10_input_shape, c10_num_classes)\n",
    "c10_alexnet.summary()"
   ]
  },
  {
   "cell_type": "code",
   "execution_count": 6,
   "metadata": {},
   "outputs": [
    {
     "name": "stdout",
     "output_type": "stream",
     "text": [
      "Train on 50000 samples, validate on 10000 samples\n",
      "Epoch 1/25\n",
      "50000/50000 [==============================] - 17s 332us/step - loss: 1.5047 - accuracy: 0.4481 - val_loss: 2.2532 - val_accuracy: 0.2283\n",
      "Epoch 2/25\n",
      "50000/50000 [==============================] - 13s 264us/step - loss: 1.1343 - accuracy: 0.5935 - val_loss: 1.2160 - val_accuracy: 0.5687\n",
      "Epoch 3/25\n",
      "50000/50000 [==============================] - 13s 264us/step - loss: 0.9257 - accuracy: 0.6705 - val_loss: 1.2689 - val_accuracy: 0.5626\n",
      "Epoch 4/25\n",
      "50000/50000 [==============================] - 13s 265us/step - loss: 0.7360 - accuracy: 0.7403 - val_loss: 1.2278 - val_accuracy: 0.5954\n",
      "Epoch 5/25\n",
      "50000/50000 [==============================] - 13s 265us/step - loss: 0.5489 - accuracy: 0.8082 - val_loss: 1.2658 - val_accuracy: 0.6047\n",
      "Epoch 6/25\n",
      "50000/50000 [==============================] - 13s 265us/step - loss: 0.3736 - accuracy: 0.8713 - val_loss: 1.5401 - val_accuracy: 0.5874\n",
      "Epoch 7/25\n",
      "50000/50000 [==============================] - 13s 265us/step - loss: 0.2654 - accuracy: 0.9084 - val_loss: 1.5831 - val_accuracy: 0.6101\n",
      "Epoch 8/25\n",
      "50000/50000 [==============================] - 13s 264us/step - loss: 0.1875 - accuracy: 0.9348 - val_loss: 1.7927 - val_accuracy: 0.6027\n",
      "Epoch 9/25\n",
      "50000/50000 [==============================] - 13s 265us/step - loss: 0.1372 - accuracy: 0.9523 - val_loss: 1.9613 - val_accuracy: 0.5870\n",
      "Epoch 10/25\n",
      "50000/50000 [==============================] - 13s 265us/step - loss: 0.1210 - accuracy: 0.9592 - val_loss: 2.0249 - val_accuracy: 0.6144\n",
      "Epoch 11/25\n",
      "50000/50000 [==============================] - 13s 265us/step - loss: 0.1077 - accuracy: 0.9644 - val_loss: 2.1685 - val_accuracy: 0.5913\n",
      "Epoch 12/25\n",
      "50000/50000 [==============================] - 13s 265us/step - loss: 0.0897 - accuracy: 0.9694 - val_loss: 2.1765 - val_accuracy: 0.6012\n",
      "Epoch 13/25\n",
      "50000/50000 [==============================] - 13s 264us/step - loss: 0.0886 - accuracy: 0.9691 - val_loss: 2.0799 - val_accuracy: 0.6160\n",
      "Epoch 14/25\n",
      "50000/50000 [==============================] - 13s 266us/step - loss: 0.0754 - accuracy: 0.9744 - val_loss: 2.1760 - val_accuracy: 0.6145\n",
      "Epoch 15/25\n",
      "50000/50000 [==============================] - 13s 266us/step - loss: 0.0716 - accuracy: 0.9761 - val_loss: 2.3360 - val_accuracy: 0.6058\n",
      "Epoch 16/25\n",
      "50000/50000 [==============================] - 13s 264us/step - loss: 0.0695 - accuracy: 0.9765 - val_loss: 2.3401 - val_accuracy: 0.6016\n",
      "Epoch 17/25\n",
      "50000/50000 [==============================] - 13s 265us/step - loss: 0.0690 - accuracy: 0.9763 - val_loss: 2.2265 - val_accuracy: 0.6006\n",
      "Epoch 18/25\n",
      "50000/50000 [==============================] - 13s 265us/step - loss: 0.0683 - accuracy: 0.9768 - val_loss: 2.2618 - val_accuracy: 0.6113\n",
      "Epoch 19/25\n",
      "50000/50000 [==============================] - 13s 266us/step - loss: 0.0572 - accuracy: 0.9805 - val_loss: 2.4536 - val_accuracy: 0.5867\n",
      "Epoch 20/25\n",
      "50000/50000 [==============================] - 13s 265us/step - loss: 0.0518 - accuracy: 0.9837 - val_loss: 2.3634 - val_accuracy: 0.6043\n",
      "Epoch 21/25\n",
      "50000/50000 [==============================] - 13s 265us/step - loss: 0.0603 - accuracy: 0.9798 - val_loss: 2.3774 - val_accuracy: 0.6028\n",
      "Epoch 22/25\n",
      "50000/50000 [==============================] - 13s 266us/step - loss: 0.0542 - accuracy: 0.9822 - val_loss: 2.3571 - val_accuracy: 0.6068\n",
      "Epoch 23/25\n",
      "50000/50000 [==============================] - 13s 265us/step - loss: 0.0538 - accuracy: 0.9821 - val_loss: 2.5141 - val_accuracy: 0.5973\n",
      "Epoch 24/25\n",
      "50000/50000 [==============================] - 13s 265us/step - loss: 0.0551 - accuracy: 0.9823 - val_loss: 2.2076 - val_accuracy: 0.6098\n",
      "Epoch 25/25\n",
      "50000/50000 [==============================] - 13s 266us/step - loss: 0.0467 - accuracy: 0.9844 - val_loss: 2.3238 - val_accuracy: 0.6115\n"
     ]
    },
    {
     "data": {
      "text/plain": [
       "<keras.callbacks.callbacks.History at 0x7f9e440d1e10>"
      ]
     },
     "execution_count": 6,
     "metadata": {},
     "output_type": "execute_result"
    }
   ],
   "source": [
    "c10_alexnet.fit(c10_x_train, c10_y_train, validation_data = (c10_x_test, c10_y_test), batch_size = c10_batch_size, epochs = c10_epochs, shuffle = True)"
   ]
  },
  {
   "cell_type": "code",
   "execution_count": 7,
   "metadata": {},
   "outputs": [
    {
     "name": "stdout",
     "output_type": "stream",
     "text": [
      "10000/10000 [==============================] - 2s 161us/step\n",
      "Test loss: 2.3238358577728273\n",
      "Test accuracy: 0.6115000247955322\n"
     ]
    }
   ],
   "source": [
    "scores = c10_alexnet.evaluate(c10_x_test, c10_y_test, verbose=1)\n",
    "print('Test loss:', scores[0])\n",
    "print('Test accuracy:', scores[1])"
   ]
  },
  {
   "cell_type": "code",
   "execution_count": 8,
   "metadata": {},
   "outputs": [],
   "source": [
    "c10_alexnet.save('c10_alexnet.h5')\n",
    "c10_alexnet.save_weights('c10_alexnet_weights.h5')"
   ]
  },
  {
   "cell_type": "code",
   "execution_count": 9,
   "metadata": {},
   "outputs": [
    {
     "name": "stdout",
     "output_type": "stream",
     "text": [
      "Class: airplane Test accuracy: 0.7200000286102295\n",
      "Class: automobile Test accuracy: 0.7540000081062317\n",
      "Class: bird Test accuracy: 0.5360000133514404\n",
      "Class: cat Test accuracy: 0.42800000309944153\n",
      "Class: deer Test accuracy: 0.5609999895095825\n",
      "Class: dog Test accuracy: 0.5709999799728394\n",
      "Class: frog Test accuracy: 0.593999981880188\n",
      "Class: horse Test accuracy: 0.6259999871253967\n",
      "Class: ship Test accuracy: 0.7210000157356262\n",
      "Class: truck Test accuracy: 0.6039999723434448\n"
     ]
    }
   ],
   "source": [
    "predictions = {}\n",
    "for i in range(c10_num_classes):\n",
    "    index = np.where(c10_y_test_orig == i)\n",
    "    slice_x_test = c10_x_test[index[0]]\n",
    "    slice_y_test = c10_y_test[index[0]]\n",
    "    scores = c10_alexnet.evaluate(slice_x_test, slice_y_test, verbose = 0)\n",
    "    print('Class: ' + c10_class_name[i] + ' Test accuracy: ' + str(scores[1]))\n",
    "    predictions[c10_class_name[i]] = str(scores[1])"
   ]
  },
  {
   "cell_type": "markdown",
   "metadata": {},
   "source": [
    "### CIFAR - 100"
   ]
  },
  {
   "cell_type": "code",
   "execution_count": 4,
   "metadata": {},
   "outputs": [
    {
     "name": "stdout",
     "output_type": "stream",
     "text": [
      "(50000, 32, 32, 3) (10000, 32, 32, 3) (50000, 100) (10000, 100)\n"
     ]
    }
   ],
   "source": [
    "# Load data\n",
    "(c100_x_train_orig, c100_y_train_orig), (c100_x_test_orig, c100_y_test_orig) = cifar100.load_data()\n",
    "\n",
    "# Pre-processing X\n",
    "c100_x_train = c100_x_train_orig.astype('float32')\n",
    "c100_x_test = c100_x_test_orig.astype('float32')\n",
    "c100_x_train = c100_x_train/255\n",
    "c100_x_test = c100_x_test/255\n",
    "\n",
    "# Hyper-parameters\n",
    "c100_epochs = 25\n",
    "c100_batch_size = 128\n",
    "c100_num_classes = 100\n",
    "c100_input_shape = c100_x_train.shape[1:]\n",
    "\n",
    "# Pre-processing Y\n",
    "c100_y_train = keras.utils.to_categorical(c100_y_train_orig, c100_num_classes)\n",
    "c100_y_test = keras.utils.to_categorical(c100_y_test_orig, c100_num_classes)\n",
    "\n",
    "print(c100_x_train.shape, c100_x_test.shape, c100_y_train.shape, c100_y_test.shape)"
   ]
  },
  {
   "cell_type": "code",
   "execution_count": 5,
   "metadata": {},
   "outputs": [],
   "source": [
    "c100_alexnet = Alexnet(c100_input_shape, c100_num_classes)\n",
    "#c100_alexnet.summary()"
   ]
  },
  {
   "cell_type": "code",
   "execution_count": 6,
   "metadata": {},
   "outputs": [
    {
     "name": "stdout",
     "output_type": "stream",
     "text": [
      "Train on 50000 samples, validate on 10000 samples\n",
      "Epoch 1/25\n",
      "50000/50000 [==============================] - 17s 333us/step - loss: 3.8535 - accuracy: 0.1037 - val_loss: 4.2551 - val_accuracy: 0.0629\n",
      "Epoch 2/25\n",
      "50000/50000 [==============================] - 13s 266us/step - loss: 3.1701 - accuracy: 0.2150 - val_loss: 3.0685 - val_accuracy: 0.2426\n",
      "Epoch 3/25\n",
      "50000/50000 [==============================] - 13s 266us/step - loss: 2.7890 - accuracy: 0.2854 - val_loss: 2.8202 - val_accuracy: 0.2922\n",
      "Epoch 4/25\n",
      "50000/50000 [==============================] - 13s 268us/step - loss: 2.4754 - accuracy: 0.3480 - val_loss: 2.8258 - val_accuracy: 0.2922\n",
      "Epoch 5/25\n",
      "50000/50000 [==============================] - 13s 267us/step - loss: 2.1873 - accuracy: 0.4100 - val_loss: 2.7583 - val_accuracy: 0.3136\n",
      "Epoch 6/25\n",
      "50000/50000 [==============================] - 14s 270us/step - loss: 1.8839 - accuracy: 0.4776 - val_loss: 2.9848 - val_accuracy: 0.2933\n",
      "Epoch 7/25\n",
      "50000/50000 [==============================] - 13s 268us/step - loss: 1.5810 - accuracy: 0.5485 - val_loss: 3.0166 - val_accuracy: 0.3040\n",
      "Epoch 8/25\n",
      "50000/50000 [==============================] - 13s 268us/step - loss: 1.2902 - accuracy: 0.6228 - val_loss: 3.2277 - val_accuracy: 0.2963\n",
      "Epoch 9/25\n",
      "50000/50000 [==============================] - 13s 268us/step - loss: 1.0178 - accuracy: 0.6934 - val_loss: 3.4495 - val_accuracy: 0.2976\n",
      "Epoch 10/25\n",
      "50000/50000 [==============================] - 13s 267us/step - loss: 0.7729 - accuracy: 0.7619 - val_loss: 3.9345 - val_accuracy: 0.2953\n",
      "Epoch 11/25\n",
      "50000/50000 [==============================] - 13s 268us/step - loss: 0.5775 - accuracy: 0.8176 - val_loss: 4.2277 - val_accuracy: 0.2996\n",
      "Epoch 12/25\n",
      "50000/50000 [==============================] - 13s 268us/step - loss: 0.4394 - accuracy: 0.8615 - val_loss: 4.5805 - val_accuracy: 0.2926\n",
      "Epoch 13/25\n",
      "50000/50000 [==============================] - 13s 267us/step - loss: 0.3362 - accuracy: 0.8911 - val_loss: 4.8763 - val_accuracy: 0.3010\n",
      "Epoch 14/25\n",
      "50000/50000 [==============================] - 13s 268us/step - loss: 0.2567 - accuracy: 0.9178 - val_loss: 5.4087 - val_accuracy: 0.2971\n",
      "Epoch 15/25\n",
      "50000/50000 [==============================] - 13s 268us/step - loss: 0.2209 - accuracy: 0.9278 - val_loss: 5.2987 - val_accuracy: 0.2984\n",
      "Epoch 16/25\n",
      "50000/50000 [==============================] - 13s 268us/step - loss: 0.1964 - accuracy: 0.9367 - val_loss: 5.5379 - val_accuracy: 0.2906\n",
      "Epoch 17/25\n",
      "50000/50000 [==============================] - 13s 267us/step - loss: 0.1730 - accuracy: 0.9454 - val_loss: 5.6702 - val_accuracy: 0.2964\n",
      "Epoch 18/25\n",
      "50000/50000 [==============================] - 13s 268us/step - loss: 0.1578 - accuracy: 0.9504 - val_loss: 5.6794 - val_accuracy: 0.2917\n",
      "Epoch 19/25\n",
      "50000/50000 [==============================] - 13s 268us/step - loss: 0.1452 - accuracy: 0.9541 - val_loss: 5.7323 - val_accuracy: 0.3015\n",
      "Epoch 20/25\n",
      "50000/50000 [==============================] - 13s 267us/step - loss: 0.1378 - accuracy: 0.9555 - val_loss: 5.7431 - val_accuracy: 0.2904\n",
      "Epoch 21/25\n",
      "50000/50000 [==============================] - 13s 267us/step - loss: 0.1318 - accuracy: 0.9586 - val_loss: 5.9137 - val_accuracy: 0.3000\n",
      "Epoch 22/25\n",
      "50000/50000 [==============================] - 13s 267us/step - loss: 0.1236 - accuracy: 0.9607 - val_loss: 6.4423 - val_accuracy: 0.2845\n",
      "Epoch 23/25\n",
      "50000/50000 [==============================] - 13s 267us/step - loss: 0.1070 - accuracy: 0.9659 - val_loss: 6.4654 - val_accuracy: 0.2942\n",
      "Epoch 24/25\n",
      "50000/50000 [==============================] - 13s 267us/step - loss: 0.1148 - accuracy: 0.9625 - val_loss: 6.2129 - val_accuracy: 0.2897\n",
      "Epoch 25/25\n",
      "50000/50000 [==============================] - 13s 268us/step - loss: 0.1130 - accuracy: 0.9633 - val_loss: 6.2768 - val_accuracy: 0.2877\n"
     ]
    },
    {
     "data": {
      "text/plain": [
       "<keras.callbacks.callbacks.History at 0x7f6f284d74a8>"
      ]
     },
     "execution_count": 6,
     "metadata": {},
     "output_type": "execute_result"
    }
   ],
   "source": [
    "c100_alexnet.fit(c100_x_train, c100_y_train, validation_data = (c100_x_test, c100_y_test), batch_size = c100_batch_size, epochs = c100_epochs, shuffle = True)"
   ]
  },
  {
   "cell_type": "code",
   "execution_count": 7,
   "metadata": {},
   "outputs": [
    {
     "name": "stdout",
     "output_type": "stream",
     "text": [
      "10000/10000 [==============================] - 2s 158us/step\n",
      "Test loss: 6.276831963348389\n",
      "Test accuracy: 0.28769999742507935\n"
     ]
    }
   ],
   "source": [
    "scores = c100_alexnet.evaluate(c100_x_test, c100_y_test, verbose=1)\n",
    "print('Test loss:', scores[0])\n",
    "print('Test accuracy:', scores[1])"
   ]
  },
  {
   "cell_type": "code",
   "execution_count": 8,
   "metadata": {},
   "outputs": [],
   "source": [
    "c100_alexnet.save('c100_alexnet.h5')\n",
    "c100_alexnet.save_weights('c100_alexnet_weights.h5')"
   ]
  },
  {
   "cell_type": "code",
   "execution_count": 10,
   "metadata": {},
   "outputs": [
    {
     "name": "stdout",
     "output_type": "stream",
     "text": [
      "Class: apple Test accuracy: 0.44999998807907104\n",
      "Class: aquarium_fish Test accuracy: 0.4399999976158142\n",
      "Class: baby Test accuracy: 0.1599999964237213\n",
      "Class: bear Test accuracy: 0.18000000715255737\n",
      "Class: beaver Test accuracy: 0.07999999821186066\n",
      "Class: bed Test accuracy: 0.27000001072883606\n",
      "Class: bee Test accuracy: 0.33000001311302185\n",
      "Class: beetle Test accuracy: 0.4099999964237213\n",
      "Class: bicycle Test accuracy: 0.33000001311302185\n",
      "Class: bottle Test accuracy: 0.2800000011920929\n",
      "Class: bowl Test accuracy: 0.15000000596046448\n",
      "Class: boy Test accuracy: 0.11999999731779099\n",
      "Class: bridge Test accuracy: 0.3199999928474426\n",
      "Class: bus Test accuracy: 0.23999999463558197\n",
      "Class: butterfly Test accuracy: 0.23000000417232513\n",
      "Class: camel Test accuracy: 0.09000000357627869\n",
      "Class: can Test accuracy: 0.25\n",
      "Class: castle Test accuracy: 0.4300000071525574\n",
      "Class: caterpillar Test accuracy: 0.27000001072883606\n",
      "Class: cattle Test accuracy: 0.18000000715255737\n",
      "Class: chair Test accuracy: 0.3400000035762787\n",
      "Class: chimpanzee Test accuracy: 0.3100000023841858\n",
      "Class: clock Test accuracy: 0.2800000011920929\n",
      "Class: cloud Test accuracy: 0.4300000071525574\n",
      "Class: cockroach Test accuracy: 0.47999998927116394\n",
      "Class: couch Test accuracy: 0.11999999731779099\n",
      "Class: crab Test accuracy: 0.20000000298023224\n",
      "Class: crocodile Test accuracy: 0.14000000059604645\n",
      "Class: cup Test accuracy: 0.4099999964237213\n",
      "Class: dinosaur Test accuracy: 0.18000000715255737\n",
      "Class: dolphin Test accuracy: 0.4300000071525574\n",
      "Class: elephant Test accuracy: 0.1599999964237213\n",
      "Class: flatfish Test accuracy: 0.23999999463558197\n",
      "Class: forest Test accuracy: 0.20999999344348907\n",
      "Class: fox Test accuracy: 0.1599999964237213\n",
      "Class: girl Test accuracy: 0.17000000178813934\n",
      "Class: hamster Test accuracy: 0.3100000023841858\n",
      "Class: house Test accuracy: 0.15000000596046448\n",
      "Class: kangaroo Test accuracy: 0.1899999976158142\n",
      "Class: keyboard Test accuracy: 0.4300000071525574\n",
      "Class: lamp Test accuracy: 0.20000000298023224\n",
      "Class: lawn_mower Test accuracy: 0.550000011920929\n",
      "Class: leopard Test accuracy: 0.33000001311302185\n",
      "Class: lion Test accuracy: 0.3700000047683716\n",
      "Class: lizard Test accuracy: 0.17000000178813934\n",
      "Class: lobster Test accuracy: 0.15000000596046448\n",
      "Class: man Test accuracy: 0.1899999976158142\n",
      "Class: maple_tree Test accuracy: 0.3799999952316284\n",
      "Class: motorcycle Test accuracy: 0.5199999809265137\n",
      "Class: mountain Test accuracy: 0.3799999952316284\n",
      "Class: mouse Test accuracy: 0.17000000178813934\n",
      "Class: mushroom Test accuracy: 0.2199999988079071\n",
      "Class: oak_tree Test accuracy: 0.699999988079071\n",
      "Class: orange Test accuracy: 0.3799999952316284\n",
      "Class: orchid Test accuracy: 0.3499999940395355\n",
      "Class: otter Test accuracy: 0.019999999552965164\n",
      "Class: palm_tree Test accuracy: 0.3199999928474426\n",
      "Class: pear Test accuracy: 0.33000001311302185\n",
      "Class: pickup_truck Test accuracy: 0.17000000178813934\n",
      "Class: pine_tree Test accuracy: 0.23999999463558197\n",
      "Class: plain Test accuracy: 0.6700000166893005\n",
      "Class: plate Test accuracy: 0.38999998569488525\n",
      "Class: poppy Test accuracy: 0.4300000071525574\n",
      "Class: porcupine Test accuracy: 0.4399999976158142\n",
      "Class: possum Test accuracy: 0.12999999523162842\n",
      "Class: rabbit Test accuracy: 0.20999999344348907\n",
      "Class: raccoon Test accuracy: 0.11999999731779099\n",
      "Class: ray Test accuracy: 0.23000000417232513\n",
      "Class: road Test accuracy: 0.6100000143051147\n",
      "Class: rocket Test accuracy: 0.36000001430511475\n",
      "Class: rose Test accuracy: 0.4300000071525574\n",
      "Class: sea Test accuracy: 0.4000000059604645\n",
      "Class: seal Test accuracy: 0.09000000357627869\n",
      "Class: shark Test accuracy: 0.2800000011920929\n",
      "Class: shrew Test accuracy: 0.30000001192092896\n",
      "Class: skunk Test accuracy: 0.3700000047683716\n",
      "Class: skyscraper Test accuracy: 0.5099999904632568\n",
      "Class: snail Test accuracy: 0.10000000149011612\n",
      "Class: snake Test accuracy: 0.30000001192092896\n",
      "Class: spider Test accuracy: 0.20999999344348907\n",
      "Class: squirrel Test accuracy: 0.11999999731779099\n",
      "Class: streetcar Test accuracy: 0.10999999940395355\n",
      "Class: sunflower Test accuracy: 0.6600000262260437\n",
      "Class: sweet_pepper Test accuracy: 0.3100000023841858\n",
      "Class: table Test accuracy: 0.1599999964237213\n",
      "Class: tank Test accuracy: 0.28999999165534973\n",
      "Class: telephone Test accuracy: 0.3100000023841858\n",
      "Class: television Test accuracy: 0.23999999463558197\n",
      "Class: tiger Test accuracy: 0.18000000715255737\n",
      "Class: tractor Test accuracy: 0.30000001192092896\n",
      "Class: train Test accuracy: 0.17000000178813934\n",
      "Class: trout Test accuracy: 0.3199999928474426\n",
      "Class: tulip Test accuracy: 0.3199999928474426\n",
      "Class: turtle Test accuracy: 0.25999999046325684\n",
      "Class: wardrobe Test accuracy: 0.5\n",
      "Class: whale Test accuracy: 0.28999999165534973\n",
      "Class: willow_tree Test accuracy: 0.25\n",
      "Class: wolf Test accuracy: 0.27000001072883606\n",
      "Class: woman Test accuracy: 0.18000000715255737\n",
      "Class: worm Test accuracy: 0.25999999046325684\n"
     ]
    }
   ],
   "source": [
    "predictions = {}\n",
    "for i in range(c100_num_classes):\n",
    "    index = np.where(c100_y_test_orig == i)\n",
    "    slice_x_test = c100_x_test[index[0]]\n",
    "    slice_y_test = c100_y_test[index[0]]\n",
    "    scores = c100_alexnet.evaluate(slice_x_test, slice_y_test, verbose = 0)\n",
    "    print('Class: ' + c100_class_name[i] + ' Test accuracy: ' + str(scores[1]))\n",
    "    predictions[c100_class_name[i]] = str(scores[1])"
   ]
  },
  {
   "cell_type": "markdown",
   "metadata": {},
   "source": [
    "## With Resizing Images to (224,224,3)"
   ]
  },
  {
   "cell_type": "code",
   "execution_count": 1,
   "metadata": {},
   "outputs": [
    {
     "name": "stderr",
     "output_type": "stream",
     "text": [
      "Using TensorFlow backend.\n"
     ]
    }
   ],
   "source": [
    "import keras\n",
    "import cv2\n",
    "import numpy as np\n",
    "import matplotlib.pyplot as plt\n",
    "from keras.datasets import cifar10, cifar100\n",
    "from keras.preprocessing.image import ImageDataGenerator\n",
    "from keras.models import Sequential\n",
    "from keras.layers import Dense, Dropout, Activation, Flatten, BatchNormalization\n",
    "from keras.layers import Conv2D, MaxPooling2D, GlobalAveragePooling2D, AveragePooling2D, ZeroPadding2D\n",
    "from keras.initializers import he_normal, glorot_uniform\n",
    "from keras import optimizers\n",
    "from keras.layers.normalization import BatchNormalization"
   ]
  },
  {
   "cell_type": "code",
   "execution_count": 2,
   "metadata": {},
   "outputs": [],
   "source": [
    "def preprocess_image(X, image_height=224, image_width=224):\n",
    "    X_resize = []\n",
    "    for i in range(len(X)):\n",
    "        #X[i] = X[i] / 255.0\n",
    "        X_resize.append(cv2.resize(X[i], (image_height, image_width)))\n",
    "    return np.asarray(X_resize)"
   ]
  },
  {
   "cell_type": "code",
   "execution_count": 3,
   "metadata": {},
   "outputs": [],
   "source": [
    "def Alexnet1(input_shape, num_classes):\n",
    "    alexnet = Sequential()\n",
    "    alexnet.add(Conv2D(filters=96,kernel_size=(11,11),strides=(4,4),input_shape=input_shape, activation='relu', padding = 'same', kernel_initializer=he_normal()))\n",
    "    alexnet.add(BatchNormalization())\n",
    "    alexnet.add(MaxPooling2D(pool_size=(3,3),strides=(2,2)))\n",
    "    alexnet.add(Conv2D(256,(5,5),padding='same',activation='relu', kernel_initializer=he_normal()))\n",
    "    alexnet.add(BatchNormalization())\n",
    "    alexnet.add(MaxPooling2D(pool_size=(3,3),strides=(2,2)))\n",
    "    alexnet.add(Conv2D(384,(3,3),padding='same',activation='relu', kernel_initializer=he_normal()))\n",
    "    alexnet.add(Conv2D(384,(3,3),padding='same',activation='relu', kernel_initializer=he_normal()))\n",
    "    alexnet.add(Conv2D(256,(3,3),padding='same',activation='relu', kernel_initializer=he_normal()))\n",
    "    alexnet.add(MaxPooling2D(pool_size=(3,3),strides=(2,2)))\n",
    "    alexnet.add(Flatten())\n",
    "    alexnet.add(Dense(4096, activation='relu', kernel_initializer=he_normal()))\n",
    "    alexnet.add(Dropout(0.4))\n",
    "    alexnet.add(Dense(4096, activation='relu', kernel_initializer=he_normal()))\n",
    "    alexnet.add(Dropout(0.4))\n",
    "    alexnet.add(Dense(num_classes,activation='softmax', kernel_initializer=he_normal()))\n",
    "\n",
    "    opt = keras.optimizers.Adam(learning_rate=0.0001)\n",
    "    alexnet.compile(optimizer=opt,loss='categorical_crossentropy',metrics=['accuracy'])\n",
    "    return alexnet"
   ]
  },
  {
   "cell_type": "markdown",
   "metadata": {},
   "source": [
    "### CIFAR - 10"
   ]
  },
  {
   "cell_type": "code",
   "execution_count": 4,
   "metadata": {},
   "outputs": [
    {
     "name": "stdout",
     "output_type": "stream",
     "text": [
      "(50000, 224, 224, 3) (10000, 224, 224, 3) (50000, 10) (10000, 10)\n"
     ]
    }
   ],
   "source": [
    "# Load data\n",
    "(c10_x_train_orig, c10_y_train_orig), (c10_x_test_orig, c10_y_test_orig) = cifar10.load_data()\n",
    "\n",
    "# Pre-processing X\n",
    "c10_x_train = preprocess_image(c10_x_train_orig)\n",
    "c10_x_test = preprocess_image(c10_x_test_orig)\n",
    "\n",
    "# Hyper-parameters\n",
    "c10_epochs = 10\n",
    "c10_batch_size = 128\n",
    "c10_num_classes = 10\n",
    "c10_input_shape = c10_x_train.shape[1:]\n",
    "\n",
    "# Pre-processing Y\n",
    "c10_y_train = keras.utils.to_categorical(c10_y_train_orig, c10_num_classes)\n",
    "c10_y_test = keras.utils.to_categorical(c10_y_test_orig, c10_num_classes)\n",
    "\n",
    "print(c10_x_train.shape, c10_x_test.shape, c10_y_train.shape, c10_y_test.shape)"
   ]
  },
  {
   "cell_type": "code",
   "execution_count": 5,
   "metadata": {},
   "outputs": [
    {
     "name": "stdout",
     "output_type": "stream",
     "text": [
      "Model: \"sequential_1\"\n",
      "_________________________________________________________________\n",
      "Layer (type)                 Output Shape              Param #   \n",
      "=================================================================\n",
      "conv2d_1 (Conv2D)            (None, 56, 56, 96)        34944     \n",
      "_________________________________________________________________\n",
      "batch_normalization_1 (Batch (None, 56, 56, 96)        384       \n",
      "_________________________________________________________________\n",
      "max_pooling2d_1 (MaxPooling2 (None, 27, 27, 96)        0         \n",
      "_________________________________________________________________\n",
      "conv2d_2 (Conv2D)            (None, 27, 27, 256)       614656    \n",
      "_________________________________________________________________\n",
      "batch_normalization_2 (Batch (None, 27, 27, 256)       1024      \n",
      "_________________________________________________________________\n",
      "max_pooling2d_2 (MaxPooling2 (None, 13, 13, 256)       0         \n",
      "_________________________________________________________________\n",
      "conv2d_3 (Conv2D)            (None, 13, 13, 384)       885120    \n",
      "_________________________________________________________________\n",
      "conv2d_4 (Conv2D)            (None, 13, 13, 384)       1327488   \n",
      "_________________________________________________________________\n",
      "conv2d_5 (Conv2D)            (None, 13, 13, 256)       884992    \n",
      "_________________________________________________________________\n",
      "max_pooling2d_3 (MaxPooling2 (None, 6, 6, 256)         0         \n",
      "_________________________________________________________________\n",
      "flatten_1 (Flatten)          (None, 9216)              0         \n",
      "_________________________________________________________________\n",
      "dense_1 (Dense)              (None, 4096)              37752832  \n",
      "_________________________________________________________________\n",
      "dropout_1 (Dropout)          (None, 4096)              0         \n",
      "_________________________________________________________________\n",
      "dense_2 (Dense)              (None, 4096)              16781312  \n",
      "_________________________________________________________________\n",
      "dropout_2 (Dropout)          (None, 4096)              0         \n",
      "_________________________________________________________________\n",
      "dense_3 (Dense)              (None, 10)                40970     \n",
      "=================================================================\n",
      "Total params: 58,323,722\n",
      "Trainable params: 58,323,018\n",
      "Non-trainable params: 704\n",
      "_________________________________________________________________\n"
     ]
    }
   ],
   "source": [
    "c10_alexnet = Alexnet1(c10_input_shape, c10_num_classes)\n",
    "c10_alexnet.summary()"
   ]
  },
  {
   "cell_type": "code",
   "execution_count": 6,
   "metadata": {},
   "outputs": [
    {
     "name": "stdout",
     "output_type": "stream",
     "text": [
      "Train on 50000 samples, validate on 10000 samples\n",
      "Epoch 1/10\n",
      "50000/50000 [==============================] - 96s 2ms/step - loss: 1.6628 - accuracy: 0.4453 - val_loss: 1.3003 - val_accuracy: 0.5362\n",
      "Epoch 2/10\n",
      "50000/50000 [==============================] - 88s 2ms/step - loss: 1.0672 - accuracy: 0.6195 - val_loss: 0.9996 - val_accuracy: 0.6477\n",
      "Epoch 3/10\n",
      "50000/50000 [==============================] - 88s 2ms/step - loss: 0.8262 - accuracy: 0.7086 - val_loss: 0.9611 - val_accuracy: 0.6597\n",
      "Epoch 4/10\n",
      "50000/50000 [==============================] - 89s 2ms/step - loss: 0.6571 - accuracy: 0.7703 - val_loss: 0.7430 - val_accuracy: 0.7378\n",
      "Epoch 5/10\n",
      "50000/50000 [==============================] - 89s 2ms/step - loss: 0.5150 - accuracy: 0.8207 - val_loss: 0.7326 - val_accuracy: 0.7514\n",
      "Epoch 6/10\n",
      "50000/50000 [==============================] - 89s 2ms/step - loss: 0.3822 - accuracy: 0.8659 - val_loss: 0.9659 - val_accuracy: 0.7025\n",
      "Epoch 7/10\n",
      "50000/50000 [==============================] - 90s 2ms/step - loss: 0.2689 - accuracy: 0.9056 - val_loss: 1.3478 - val_accuracy: 0.6428\n",
      "Epoch 8/10\n",
      "50000/50000 [==============================] - 89s 2ms/step - loss: 0.1899 - accuracy: 0.9330 - val_loss: 0.8241 - val_accuracy: 0.7731\n",
      "Epoch 9/10\n",
      "50000/50000 [==============================] - 89s 2ms/step - loss: 0.1408 - accuracy: 0.9519 - val_loss: 0.7894 - val_accuracy: 0.7795\n",
      "Epoch 10/10\n",
      "50000/50000 [==============================] - 89s 2ms/step - loss: 0.1049 - accuracy: 0.9645 - val_loss: 0.9745 - val_accuracy: 0.7614\n"
     ]
    },
    {
     "data": {
      "text/plain": [
       "<keras.callbacks.callbacks.History at 0x7f3a1c1900b8>"
      ]
     },
     "execution_count": 6,
     "metadata": {},
     "output_type": "execute_result"
    }
   ],
   "source": [
    "c10_alexnet.fit(c10_x_train, c10_y_train, validation_data = (c10_x_test, c10_y_test), batch_size = c10_batch_size, epochs = c10_epochs, shuffle = True)"
   ]
  },
  {
   "cell_type": "code",
   "execution_count": 7,
   "metadata": {},
   "outputs": [
    {
     "name": "stdout",
     "output_type": "stream",
     "text": [
      "10000/10000 [==============================] - 8s 822us/step\n",
      "Test loss: 0.9744510487556457\n",
      "Test accuracy: 0.7613999843597412\n"
     ]
    }
   ],
   "source": [
    "scores = c10_alexnet.evaluate(c10_x_test, c10_y_test, verbose=1)\n",
    "print('Test loss:', scores[0])\n",
    "print('Test accuracy:', scores[1])"
   ]
  },
  {
   "cell_type": "code",
   "execution_count": 10,
   "metadata": {},
   "outputs": [],
   "source": [
    "c10_alexnet.save('c10_alexnet_1.h5')\n",
    "c10_alexnet.save_weights('c10_alexnet_weights_1.h5')"
   ]
  },
  {
   "cell_type": "code",
   "execution_count": 13,
   "metadata": {},
   "outputs": [
    {
     "name": "stdout",
     "output_type": "stream",
     "text": [
      "Class: airplane Test accuracy: 0.7760000228881836\n",
      "Class: automobile Test accuracy: 0.8240000009536743\n",
      "Class: bird Test accuracy: 0.7250000238418579\n",
      "Class: cat Test accuracy: 0.47600001096725464\n",
      "Class: deer Test accuracy: 0.718999981880188\n",
      "Class: dog Test accuracy: 0.7099999785423279\n",
      "Class: frog Test accuracy: 0.8420000076293945\n",
      "Class: horse Test accuracy: 0.7739999890327454\n",
      "Class: ship Test accuracy: 0.8920000195503235\n",
      "Class: truck Test accuracy: 0.8759999871253967\n"
     ]
    }
   ],
   "source": [
    "predictions = {}\n",
    "for i in range(c10_num_classes):\n",
    "    index = np.where(c10_y_test_orig == i)\n",
    "    slice_x_test = c10_x_test[index[0]]\n",
    "    slice_y_test = c10_y_test[index[0]]\n",
    "    scores = c10_alexnet.evaluate(slice_x_test, slice_y_test, verbose = 0)\n",
    "    print('Class: ' + c10_class_name[i] + ' Test accuracy: ' + str(scores[1]))\n",
    "    predictions[c10_class_name[i]] = str(scores[1])"
   ]
  },
  {
   "cell_type": "markdown",
   "metadata": {},
   "source": [
    "### CIFAR - 100"
   ]
  },
  {
   "cell_type": "code",
   "execution_count": 28,
   "metadata": {},
   "outputs": [
    {
     "name": "stdout",
     "output_type": "stream",
     "text": [
      "(50000, 224, 224, 3) (50000, 100) (10000, 224, 224, 3) (10000, 100)\n"
     ]
    }
   ],
   "source": [
    "# Load data\n",
    "(c100_x_train_orig, c100_y_train_orig), (c100_x_test_orig, c100_y_test_orig) = cifar100.load_data()\n",
    "\n",
    "# Pre-processing X\n",
    "c100_x_train = preprocess_image(c100_x_train_orig)\n",
    "c100_x_test = preprocess_image(c100_x_test_orig)\n",
    "\n",
    "# Hyper-parameters\n",
    "c100_epochs = 25\n",
    "c100_batch_size = 32\n",
    "c100_num_classes = 100\n",
    "c100_input_shape = c100_x_train.shape[1:]\n",
    "\n",
    "# Pre-processing Y\n",
    "c100_y_train = keras.utils.to_categorical(c100_y_train_orig, c100_num_classes)\n",
    "c100_y_test = keras.utils.to_categorical(c100_y_test_orig, c100_num_classes)\n",
    "\n",
    "print(c100_x_train.shape, c100_y_train.shape, c100_x_test.shape, c100_y_test.shape)"
   ]
  },
  {
   "cell_type": "code",
   "execution_count": 5,
   "metadata": {},
   "outputs": [],
   "source": [
    "c100_alexnet = Alexnet1(c100_input_shape, c100_num_classes)\n",
    "#c100_alexnet.summary()"
   ]
  },
  {
   "cell_type": "code",
   "execution_count": 6,
   "metadata": {},
   "outputs": [
    {
     "name": "stdout",
     "output_type": "stream",
     "text": [
      "Train on 50000 samples, validate on 10000 samples\n",
      "Epoch 1/25\n",
      "50000/50000 [==============================] - 150s 3ms/step - loss: 3.7585 - accuracy: 0.1397 - val_loss: 3.1175 - val_accuracy: 0.2416\n",
      "Epoch 2/25\n",
      "50000/50000 [==============================] - 142s 3ms/step - loss: 2.8407 - accuracy: 0.2923 - val_loss: 2.5220 - val_accuracy: 0.3633\n",
      "Epoch 3/25\n",
      "50000/50000 [==============================] - 142s 3ms/step - loss: 2.3220 - accuracy: 0.3980 - val_loss: 2.3285 - val_accuracy: 0.3982\n",
      "Epoch 4/25\n",
      "50000/50000 [==============================] - 142s 3ms/step - loss: 1.8845 - accuracy: 0.4943 - val_loss: 2.0602 - val_accuracy: 0.4617\n",
      "Epoch 5/25\n",
      "50000/50000 [==============================] - 142s 3ms/step - loss: 1.4656 - accuracy: 0.5927 - val_loss: 2.1998 - val_accuracy: 0.4507\n",
      "Epoch 6/25\n",
      "50000/50000 [==============================] - 140s 3ms/step - loss: 1.0347 - accuracy: 0.7010 - val_loss: 2.1080 - val_accuracy: 0.4711\n",
      "Epoch 7/25\n",
      "50000/50000 [==============================] - 142s 3ms/step - loss: 0.6688 - accuracy: 0.7980 - val_loss: 2.1504 - val_accuracy: 0.4965\n",
      "Epoch 8/25\n",
      "50000/50000 [==============================] - 140s 3ms/step - loss: 0.4554 - accuracy: 0.8598 - val_loss: 3.0908 - val_accuracy: 0.4094\n",
      "Epoch 9/25\n",
      "50000/50000 [==============================] - 142s 3ms/step - loss: 0.3513 - accuracy: 0.8921 - val_loss: 2.4405 - val_accuracy: 0.5059\n",
      "Epoch 10/25\n",
      "50000/50000 [==============================] - 142s 3ms/step - loss: 0.2902 - accuracy: 0.9099 - val_loss: 2.5336 - val_accuracy: 0.4894\n",
      "Epoch 11/25\n",
      "50000/50000 [==============================] - 142s 3ms/step - loss: 0.2332 - accuracy: 0.9280 - val_loss: 2.6235 - val_accuracy: 0.5043\n",
      "Epoch 12/25\n",
      "50000/50000 [==============================] - 144s 3ms/step - loss: 0.2233 - accuracy: 0.9318 - val_loss: 2.7254 - val_accuracy: 0.4918\n",
      "Epoch 13/25\n",
      "50000/50000 [==============================] - 140s 3ms/step - loss: 0.1994 - accuracy: 0.9374 - val_loss: 3.2511 - val_accuracy: 0.4620\n",
      "Epoch 14/25\n",
      "50000/50000 [==============================] - 142s 3ms/step - loss: 0.1932 - accuracy: 0.9416 - val_loss: 2.9033 - val_accuracy: 0.4769\n",
      "Epoch 15/25\n",
      "50000/50000 [==============================] - 142s 3ms/step - loss: 0.1684 - accuracy: 0.9495 - val_loss: 2.8005 - val_accuracy: 0.4982\n",
      "Epoch 16/25\n",
      "50000/50000 [==============================] - 142s 3ms/step - loss: 0.1650 - accuracy: 0.9503 - val_loss: 2.8195 - val_accuracy: 0.4957\n",
      "Epoch 17/25\n",
      "50000/50000 [==============================] - 142s 3ms/step - loss: 0.1500 - accuracy: 0.9551 - val_loss: 2.8822 - val_accuracy: 0.4904\n",
      "Epoch 18/25\n",
      "50000/50000 [==============================] - 144s 3ms/step - loss: 0.1454 - accuracy: 0.9574 - val_loss: 3.2148 - val_accuracy: 0.4810\n",
      "Epoch 19/25\n",
      "50000/50000 [==============================] - 142s 3ms/step - loss: 0.1446 - accuracy: 0.9572 - val_loss: 3.0044 - val_accuracy: 0.5069\n",
      "Epoch 20/25\n",
      "50000/50000 [==============================] - 142s 3ms/step - loss: 0.1320 - accuracy: 0.9605 - val_loss: 3.2029 - val_accuracy: 0.5003\n",
      "Epoch 21/25\n",
      "50000/50000 [==============================] - 144s 3ms/step - loss: 0.1220 - accuracy: 0.9640 - val_loss: 3.1174 - val_accuracy: 0.5021\n",
      "Epoch 22/25\n",
      "50000/50000 [==============================] - 144s 3ms/step - loss: 0.1259 - accuracy: 0.9622 - val_loss: 3.0615 - val_accuracy: 0.4923\n",
      "Epoch 23/25\n",
      "50000/50000 [==============================] - 142s 3ms/step - loss: 0.1213 - accuracy: 0.9644 - val_loss: 3.1669 - val_accuracy: 0.4940\n",
      "Epoch 24/25\n",
      "50000/50000 [==============================] - 142s 3ms/step - loss: 0.1201 - accuracy: 0.9651 - val_loss: 3.7146 - val_accuracy: 0.4624\n",
      "Epoch 25/25\n",
      "50000/50000 [==============================] - 144s 3ms/step - loss: 0.1121 - accuracy: 0.9670 - val_loss: 3.4171 - val_accuracy: 0.4930\n"
     ]
    },
    {
     "data": {
      "text/plain": [
       "<keras.callbacks.callbacks.History at 0x7f9ba01bea20>"
      ]
     },
     "execution_count": 6,
     "metadata": {},
     "output_type": "execute_result"
    }
   ],
   "source": [
    "c100_alexnet.fit(c100_x_train, c100_y_train, validation_data = (c100_x_test, c100_y_test), batch_size = c100_batch_size, epochs = c100_epochs, shuffle = True)"
   ]
  },
  {
   "cell_type": "code",
   "execution_count": 7,
   "metadata": {},
   "outputs": [
    {
     "name": "stdout",
     "output_type": "stream",
     "text": [
      "10000/10000 [==============================] - 8s 827us/step\n",
      "Test loss: 3.417057720184326\n",
      "Test accuracy: 0.49300000071525574\n"
     ]
    }
   ],
   "source": [
    "scores = c100_alexnet.evaluate(c100_x_test, c100_y_test)\n",
    "print('Test loss:', scores[0])\n",
    "print('Test accuracy:', scores[1])"
   ]
  },
  {
   "cell_type": "code",
   "execution_count": 17,
   "metadata": {},
   "outputs": [],
   "source": [
    "c100_alexnet.save('c100_alexnet_1.h5')\n",
    "c100_alexnet.save_weights('c100_alexnet_weights_1.h5')"
   ]
  },
  {
   "cell_type": "code",
   "execution_count": 89,
   "metadata": {},
   "outputs": [
    {
     "name": "stdout",
     "output_type": "stream",
     "text": [
      "Class: apple Test accuracy: 0.8500000238418579\n",
      "Class: aquarium_fish Test accuracy: 0.5099999904632568\n",
      "Class: baby Test accuracy: 0.3400000035762787\n",
      "Class: bear Test accuracy: 0.23999999463558197\n",
      "Class: beaver Test accuracy: 0.30000001192092896\n",
      "Class: bed Test accuracy: 0.4399999976158142\n",
      "Class: bee Test accuracy: 0.6399999856948853\n",
      "Class: beetle Test accuracy: 0.49000000953674316\n",
      "Class: bicycle Test accuracy: 0.5799999833106995\n",
      "Class: bottle Test accuracy: 0.6399999856948853\n",
      "Class: bowl Test accuracy: 0.23000000417232513\n",
      "Class: boy Test accuracy: 0.27000001072883606\n",
      "Class: bridge Test accuracy: 0.47999998927116394\n",
      "Class: bus Test accuracy: 0.44999998807907104\n",
      "Class: butterfly Test accuracy: 0.3400000035762787\n",
      "Class: camel Test accuracy: 0.41999998688697815\n",
      "Class: can Test accuracy: 0.38999998569488525\n",
      "Class: castle Test accuracy: 0.75\n",
      "Class: caterpillar Test accuracy: 0.36000001430511475\n",
      "Class: cattle Test accuracy: 0.49000000953674316\n",
      "Class: chair Test accuracy: 0.7799999713897705\n",
      "Class: chimpanzee Test accuracy: 0.6499999761581421\n",
      "Class: clock Test accuracy: 0.46000000834465027\n",
      "Class: cloud Test accuracy: 0.6899999976158142\n",
      "Class: cockroach Test accuracy: 0.6899999976158142\n",
      "Class: couch Test accuracy: 0.2199999988079071\n",
      "Class: crab Test accuracy: 0.5400000214576721\n",
      "Class: crocodile Test accuracy: 0.33000001311302185\n",
      "Class: cup Test accuracy: 0.6100000143051147\n",
      "Class: dinosaur Test accuracy: 0.5\n",
      "Class: dolphin Test accuracy: 0.5\n",
      "Class: elephant Test accuracy: 0.46000000834465027\n",
      "Class: flatfish Test accuracy: 0.41999998688697815\n",
      "Class: forest Test accuracy: 0.5099999904632568\n",
      "Class: fox Test accuracy: 0.5699999928474426\n",
      "Class: girl Test accuracy: 0.2800000011920929\n",
      "Class: hamster Test accuracy: 0.5099999904632568\n",
      "Class: house Test accuracy: 0.30000001192092896\n",
      "Class: kangaroo Test accuracy: 0.23000000417232513\n",
      "Class: keyboard Test accuracy: 0.5699999928474426\n",
      "Class: lamp Test accuracy: 0.3499999940395355\n",
      "Class: lawn_mower Test accuracy: 0.7200000286102295\n",
      "Class: leopard Test accuracy: 0.5199999809265137\n",
      "Class: lion Test accuracy: 0.6100000143051147\n",
      "Class: lizard Test accuracy: 0.14000000059604645\n",
      "Class: lobster Test accuracy: 0.3499999940395355\n",
      "Class: man Test accuracy: 0.2800000011920929\n",
      "Class: maple_tree Test accuracy: 0.5099999904632568\n",
      "Class: motorcycle Test accuracy: 0.75\n",
      "Class: mountain Test accuracy: 0.6299999952316284\n",
      "Class: mouse Test accuracy: 0.3400000035762787\n",
      "Class: mushroom Test accuracy: 0.47999998927116394\n",
      "Class: oak_tree Test accuracy: 0.6200000047683716\n",
      "Class: orange Test accuracy: 0.7400000095367432\n",
      "Class: orchid Test accuracy: 0.5699999928474426\n",
      "Class: otter Test accuracy: 0.17000000178813934\n",
      "Class: palm_tree Test accuracy: 0.6800000071525574\n",
      "Class: pear Test accuracy: 0.550000011920929\n",
      "Class: pickup_truck Test accuracy: 0.5699999928474426\n",
      "Class: pine_tree Test accuracy: 0.4699999988079071\n",
      "Class: plain Test accuracy: 0.7400000095367432\n",
      "Class: plate Test accuracy: 0.6100000143051147\n",
      "Class: poppy Test accuracy: 0.6200000047683716\n",
      "Class: porcupine Test accuracy: 0.5099999904632568\n",
      "Class: possum Test accuracy: 0.3199999928474426\n",
      "Class: rabbit Test accuracy: 0.25999999046325684\n",
      "Class: raccoon Test accuracy: 0.7699999809265137\n",
      "Class: ray Test accuracy: 0.36000001430511475\n",
      "Class: road Test accuracy: 0.7400000095367432\n",
      "Class: rocket Test accuracy: 0.7300000190734863\n",
      "Class: rose Test accuracy: 0.25\n",
      "Class: sea Test accuracy: 0.6200000047683716\n",
      "Class: seal Test accuracy: 0.18000000715255737\n",
      "Class: shark Test accuracy: 0.30000001192092896\n",
      "Class: shrew Test accuracy: 0.30000001192092896\n",
      "Class: skunk Test accuracy: 0.7900000214576721\n",
      "Class: skyscraper Test accuracy: 0.8100000023841858\n",
      "Class: snail Test accuracy: 0.25999999046325684\n",
      "Class: snake Test accuracy: 0.33000001311302185\n",
      "Class: spider Test accuracy: 0.5\n",
      "Class: squirrel Test accuracy: 0.27000001072883606\n",
      "Class: streetcar Test accuracy: 0.4399999976158142\n",
      "Class: sunflower Test accuracy: 0.75\n",
      "Class: sweet_pepper Test accuracy: 0.5600000023841858\n",
      "Class: table Test accuracy: 0.3199999928474426\n",
      "Class: tank Test accuracy: 0.7099999785423279\n",
      "Class: telephone Test accuracy: 0.550000011920929\n",
      "Class: television Test accuracy: 0.5400000214576721\n",
      "Class: tiger Test accuracy: 0.6100000143051147\n",
      "Class: tractor Test accuracy: 0.6499999761581421\n",
      "Class: train Test accuracy: 0.6100000143051147\n",
      "Class: trout Test accuracy: 0.6200000047683716\n",
      "Class: tulip Test accuracy: 0.4699999988079071\n",
      "Class: turtle Test accuracy: 0.2199999988079071\n",
      "Class: wardrobe Test accuracy: 0.7799999713897705\n",
      "Class: whale Test accuracy: 0.4099999964237213\n",
      "Class: willow_tree Test accuracy: 0.4399999976158142\n",
      "Class: wolf Test accuracy: 0.6000000238418579\n",
      "Class: woman Test accuracy: 0.1899999976158142\n",
      "Class: worm Test accuracy: 0.47999998927116394\n"
     ]
    }
   ],
   "source": [
    "predictions = {}\n",
    "for i in range(c100_num_classes):\n",
    "    index = np.where(c100_y_test_orig == i)\n",
    "    slice_x_test = c100_x_test[index[0]]\n",
    "    slice_y_test = c100_y_test[index[0]]\n",
    "    scores = c100_alexnet.evaluate(slice_x_test, slice_y_test, verbose = 0)\n",
    "    print('Class: ' + c100_class_name[i] + ' Test accuracy: ' + str(scores[1]))\n",
    "    predictions[c100_class_name[i]] = str(scores[1])"
   ]
  },
  {
   "cell_type": "markdown",
   "metadata": {},
   "source": [
    "## Trial"
   ]
  },
  {
   "cell_type": "code",
   "execution_count": 28,
   "metadata": {},
   "outputs": [
    {
     "name": "stdout",
     "output_type": "stream",
     "text": [
      "Class: automobile\n",
      "Test accuracy: 0.8240000009536743\n"
     ]
    },
    {
     "data": {
      "text/plain": [
       "<matplotlib.image.AxesImage at 0x7f3cdd531dd8>"
      ]
     },
     "execution_count": 28,
     "metadata": {},
     "output_type": "execute_result"
    },
    {
     "data": {
      "image/png": "[encoded data removed]",
      "text/plain": [
       "<Figure size 432x288 with 1 Axes>"
      ]
     },
     "metadata": {
      "needs_background": "light"
     },
     "output_type": "display_data"
    }
   ],
   "source": [
    "# Checking the correctness of labels\n",
    "\n",
    "i = 1\n",
    "index = np.where(c10_y_test_orig == i)\n",
    "slice_x_test = c10_x_test[index[0]]\n",
    "slice_y_test = c10_y_test[index[0]]\n",
    "scores = c10_alexnet.evaluate(slice_x_test, slice_y_test, verbose = 0)\n",
    "print('Class: ' + c10_class_name[i])\n",
    "print('Test accuracy:', scores[1])\n",
    "plt.imshow(slice_x_test[0])"
   ]
  },
  {
   "cell_type": "code",
   "execution_count": null,
   "metadata": {},
   "outputs": [],
   "source": []
  }
 ],
 "metadata": {
  "kernelspec": {
   "display_name": "Python 3",
   "language": "python",
   "name": "python3"
  },
  "language_info": {
   "codemirror_mode": {
    "name": "ipython",
    "version": 3
   },
   "file_extension": ".py",
   "mimetype": "text/x-python",
   "name": "python",
   "nbconvert_exporter": "python",
   "pygments_lexer": "ipython3",
   "version": "3.6.5"
  }
 },
 "nbformat": 4,
 "nbformat_minor": 4
}
