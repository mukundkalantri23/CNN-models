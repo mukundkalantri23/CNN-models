{
 "cells": [
  {
   "cell_type": "markdown",
   "metadata": {},
   "source": [
    "# LENET"
   ]
  },
  {
   "cell_type": "code",
   "execution_count": 1,
   "metadata": {},
   "outputs": [],
   "source": [
    "c10_class_name = ['airplane', 'automobile', 'bird', 'cat', 'deer', 'dog', 'frog', 'horse', 'ship', 'truck']\n",
    "c100_class_name = ['apple', 'aquarium_fish', 'baby', 'bear', 'beaver', 'bed', 'bee', 'beetle', 'bicycle', 'bottle', 'bowl', 'boy', 'bridge', 'bus', 'butterfly', \n",
    "                   'camel', 'can', 'castle', 'caterpillar', 'cattle', 'chair', 'chimpanzee', 'clock', 'cloud', 'cockroach', 'couch', 'crab', 'crocodile', 'cup', \n",
    "                   'dinosaur', 'dolphin', 'elephant', 'flatfish', 'forest', 'fox', 'girl', 'hamster', 'house', 'kangaroo', 'keyboard', 'lamp', 'lawn_mower', \n",
    "                   'leopard', 'lion', 'lizard', 'lobster', 'man', 'maple_tree', 'motorcycle', 'mountain', 'mouse','mushroom', 'oak_tree', 'orange', 'orchid', \n",
    "                   'otter', 'palm_tree', 'pear', 'pickup_truck', 'pine_tree', 'plain', 'plate', 'poppy', 'porcupine', 'possum', 'rabbit', 'raccoon', 'ray', 'road', \n",
    "                   'rocket', 'rose', 'sea', 'seal', 'shark', 'shrew', 'skunk', 'skyscraper', 'snail', 'snake', 'spider', 'squirrel', 'streetcar', 'sunflower', \n",
    "                   'sweet_pepper', 'table', 'tank', 'telephone', 'television', 'tiger', 'tractor', 'train', 'trout', 'tulip', 'turtle', 'wardrobe', 'whale', \n",
    "                   'willow_tree', 'wolf', 'woman', 'worm']"
   ]
  },
  {
   "cell_type": "markdown",
   "metadata": {},
   "source": [
    "## With default image size of dataset (32,32,3)"
   ]
  },
  {
   "cell_type": "code",
   "execution_count": 2,
   "metadata": {},
   "outputs": [
    {
     "name": "stderr",
     "output_type": "stream",
     "text": [
      "Using TensorFlow backend.\n"
     ]
    }
   ],
   "source": [
    "import keras\n",
    "import numpy as np\n",
    "from keras.datasets import cifar10, cifar100\n",
    "from keras.models import Sequential\n",
    "from keras.layers import Dense, Activation, Flatten, Conv2D, MaxPooling2D, AveragePooling2D\n",
    "from keras import optimizers\n",
    "from keras.layers.normalization import BatchNormalization"
   ]
  },
  {
   "cell_type": "code",
   "execution_count": 3,
   "metadata": {},
   "outputs": [],
   "source": [
    "def Lenet(input_shape, num_classes):\n",
    "    lenet = Sequential()\n",
    "    lenet.add(Conv2D(6, (5, 5), padding='valid', activation = 'relu', kernel_initializer='he_normal', input_shape=input_shape))\n",
    "    lenet.add(AveragePooling2D((2, 2), strides=(2, 2)))\n",
    "    lenet.add(Conv2D(16, (5, 5), padding='valid', activation = 'relu', kernel_initializer='he_normal'))\n",
    "    lenet.add(AveragePooling2D((2, 2), strides=(2, 2)))\n",
    "    lenet.add(Flatten())\n",
    "    lenet.add(Dense(120, activation = 'relu', kernel_initializer='he_normal'))\n",
    "    lenet.add(Dense(84, activation = 'relu', kernel_initializer='he_normal'))\n",
    "    lenet.add(Dense(num_classes, activation = 'softmax', kernel_initializer='he_normal'))\n",
    "    \n",
    "    lenet.compile(loss='categorical_crossentropy', optimizer='adam', metrics=['accuracy'])\n",
    "    return lenet"
   ]
  },
  {
   "cell_type": "markdown",
   "metadata": {},
   "source": [
    "### CIFAR - 10"
   ]
  },
  {
   "cell_type": "code",
   "execution_count": 4,
   "metadata": {},
   "outputs": [
    {
     "name": "stdout",
     "output_type": "stream",
     "text": [
      "(50000, 32, 32, 3) (10000, 32, 32, 3) (50000, 10) (10000, 10)\n"
     ]
    }
   ],
   "source": [
    "# Load data\n",
    "(c10_x_train_orig, c10_y_train_orig), (c10_x_test_orig, c10_y_test_orig) = cifar10.load_data()\n",
    "\n",
    "# Pre-processing X\n",
    "c10_x_train = c10_x_train_orig.astype('float32')\n",
    "c10_x_test = c10_x_test_orig.astype('float32')\n",
    "c10_x_train = c10_x_train/255\n",
    "c10_x_test = c10_x_test/255\n",
    "\n",
    "# Hyper-parameters\n",
    "c10_epochs = 50\n",
    "c10_batch_size = 128\n",
    "c10_num_classes = 10\n",
    "c10_input_shape = c10_x_train.shape[1:]\n",
    "\n",
    "# Pre-processing\n",
    "c10_y_train = keras.utils.to_categorical(c10_y_train_orig, c10_num_classes)\n",
    "c10_y_test = keras.utils.to_categorical(c10_y_test_orig, c10_num_classes)\n",
    "\n",
    "print(c10_x_train.shape, c10_x_test.shape, c10_y_train.shape, c10_y_test.shape)"
   ]
  },
  {
   "cell_type": "code",
   "execution_count": 5,
   "metadata": {},
   "outputs": [],
   "source": [
    "c10_lenet = Lenet(c10_input_shape, c10_num_classes)\n",
    "#c10_lenet.summary()"
   ]
  },
  {
   "cell_type": "code",
   "execution_count": 6,
   "metadata": {},
   "outputs": [
    {
     "name": "stdout",
     "output_type": "stream",
     "text": [
      "Train on 50000 samples, validate on 10000 samples\n",
      "Epoch 1/50\n",
      "50000/50000 [==============================] - 5s 101us/step - loss: 1.7538 - accuracy: 0.3647 - val_loss: 1.5589 - val_accuracy: 0.4477\n",
      "Epoch 2/50\n",
      "50000/50000 [==============================] - 3s 59us/step - loss: 1.4701 - accuracy: 0.4771 - val_loss: 1.3882 - val_accuracy: 0.5083\n",
      "Epoch 3/50\n",
      "50000/50000 [==============================] - 3s 61us/step - loss: 1.3421 - accuracy: 0.5225 - val_loss: 1.3330 - val_accuracy: 0.5301\n",
      "Epoch 4/50\n",
      "50000/50000 [==============================] - 3s 60us/step - loss: 1.2695 - accuracy: 0.5493 - val_loss: 1.2518 - val_accuracy: 0.5561\n",
      "Epoch 5/50\n",
      "50000/50000 [==============================] - 3s 59us/step - loss: 1.2111 - accuracy: 0.5715 - val_loss: 1.2223 - val_accuracy: 0.5640\n",
      "Epoch 6/50\n",
      "50000/50000 [==============================] - 3s 61us/step - loss: 1.1668 - accuracy: 0.5917 - val_loss: 1.2410 - val_accuracy: 0.5622\n",
      "Epoch 7/50\n",
      "50000/50000 [==============================] - 3s 58us/step - loss: 1.1228 - accuracy: 0.6054 - val_loss: 1.1817 - val_accuracy: 0.5816\n",
      "Epoch 8/50\n",
      "50000/50000 [==============================] - 3s 57us/step - loss: 1.0855 - accuracy: 0.6193 - val_loss: 1.1727 - val_accuracy: 0.5861\n",
      "Epoch 9/50\n",
      "50000/50000 [==============================] - 3s 60us/step - loss: 1.0515 - accuracy: 0.6340 - val_loss: 1.1923 - val_accuracy: 0.5805\n",
      "Epoch 10/50\n",
      "50000/50000 [==============================] - 3s 58us/step - loss: 1.0205 - accuracy: 0.6430 - val_loss: 1.1442 - val_accuracy: 0.6018\n",
      "Epoch 11/50\n",
      "50000/50000 [==============================] - 3s 60us/step - loss: 0.9957 - accuracy: 0.6521 - val_loss: 1.1342 - val_accuracy: 0.6020\n",
      "Epoch 12/50\n",
      "50000/50000 [==============================] - 3s 58us/step - loss: 0.9614 - accuracy: 0.6644 - val_loss: 1.1515 - val_accuracy: 0.5989\n",
      "Epoch 13/50\n",
      "50000/50000 [==============================] - 3s 60us/step - loss: 0.9350 - accuracy: 0.6736 - val_loss: 1.1388 - val_accuracy: 0.6034\n",
      "Epoch 14/50\n",
      "50000/50000 [==============================] - 3s 59us/step - loss: 0.9155 - accuracy: 0.6807 - val_loss: 1.1350 - val_accuracy: 0.6057\n",
      "Epoch 15/50\n",
      "50000/50000 [==============================] - 3s 58us/step - loss: 0.8909 - accuracy: 0.6894 - val_loss: 1.1384 - val_accuracy: 0.6053\n",
      "Epoch 16/50\n",
      "50000/50000 [==============================] - 3s 59us/step - loss: 0.8646 - accuracy: 0.6986 - val_loss: 1.1490 - val_accuracy: 0.6026\n",
      "Epoch 17/50\n",
      "50000/50000 [==============================] - 3s 59us/step - loss: 0.8525 - accuracy: 0.7011 - val_loss: 1.1346 - val_accuracy: 0.6090\n",
      "Epoch 18/50\n",
      "50000/50000 [==============================] - 3s 58us/step - loss: 0.8284 - accuracy: 0.7102 - val_loss: 1.1278 - val_accuracy: 0.6150\n",
      "Epoch 19/50\n",
      "50000/50000 [==============================] - 3s 59us/step - loss: 0.8111 - accuracy: 0.7166 - val_loss: 1.1494 - val_accuracy: 0.6114\n",
      "Epoch 20/50\n",
      "50000/50000 [==============================] - 3s 59us/step - loss: 0.7925 - accuracy: 0.7234 - val_loss: 1.2175 - val_accuracy: 0.5896\n",
      "Epoch 21/50\n",
      "50000/50000 [==============================] - 3s 59us/step - loss: 0.7810 - accuracy: 0.7267 - val_loss: 1.1531 - val_accuracy: 0.6116\n",
      "Epoch 22/50\n",
      "50000/50000 [==============================] - 3s 59us/step - loss: 0.7620 - accuracy: 0.7330 - val_loss: 1.1783 - val_accuracy: 0.6047\n",
      "Epoch 23/50\n",
      "50000/50000 [==============================] - 3s 57us/step - loss: 0.7438 - accuracy: 0.7411 - val_loss: 1.1765 - val_accuracy: 0.6097\n",
      "Epoch 24/50\n",
      "50000/50000 [==============================] - 3s 59us/step - loss: 0.7294 - accuracy: 0.7451 - val_loss: 1.2232 - val_accuracy: 0.6077\n",
      "Epoch 25/50\n",
      "50000/50000 [==============================] - 3s 59us/step - loss: 0.7137 - accuracy: 0.7516 - val_loss: 1.2295 - val_accuracy: 0.6033\n",
      "Epoch 26/50\n",
      "50000/50000 [==============================] - 3s 59us/step - loss: 0.7006 - accuracy: 0.7543 - val_loss: 1.1910 - val_accuracy: 0.6108\n",
      "Epoch 27/50\n",
      "50000/50000 [==============================] - 3s 59us/step - loss: 0.6916 - accuracy: 0.7586 - val_loss: 1.2150 - val_accuracy: 0.6073\n",
      "Epoch 28/50\n",
      "50000/50000 [==============================] - 3s 59us/step - loss: 0.6763 - accuracy: 0.7640 - val_loss: 1.2177 - val_accuracy: 0.6148\n",
      "Epoch 29/50\n",
      "50000/50000 [==============================] - 3s 59us/step - loss: 0.6549 - accuracy: 0.7700 - val_loss: 1.2623 - val_accuracy: 0.6075\n",
      "Epoch 30/50\n",
      "50000/50000 [==============================] - 3s 60us/step - loss: 0.6398 - accuracy: 0.7761 - val_loss: 1.2825 - val_accuracy: 0.6044\n",
      "Epoch 31/50\n",
      "50000/50000 [==============================] - 3s 58us/step - loss: 0.6300 - accuracy: 0.7797 - val_loss: 1.2707 - val_accuracy: 0.6122\n",
      "Epoch 32/50\n",
      "50000/50000 [==============================] - 3s 56us/step - loss: 0.6250 - accuracy: 0.7813 - val_loss: 1.2568 - val_accuracy: 0.6157\n",
      "Epoch 33/50\n",
      "50000/50000 [==============================] - 3s 58us/step - loss: 0.6146 - accuracy: 0.7843 - val_loss: 1.3106 - val_accuracy: 0.6052\n",
      "Epoch 34/50\n",
      "50000/50000 [==============================] - 3s 59us/step - loss: 0.5976 - accuracy: 0.7916 - val_loss: 1.3235 - val_accuracy: 0.6016\n",
      "Epoch 35/50\n",
      "50000/50000 [==============================] - 3s 59us/step - loss: 0.5882 - accuracy: 0.7930 - val_loss: 1.3234 - val_accuracy: 0.6068\n",
      "Epoch 36/50\n",
      "50000/50000 [==============================] - 3s 60us/step - loss: 0.5719 - accuracy: 0.7995 - val_loss: 1.3864 - val_accuracy: 0.5999\n",
      "Epoch 37/50\n",
      "50000/50000 [==============================] - 3s 60us/step - loss: 0.5610 - accuracy: 0.8010 - val_loss: 1.3879 - val_accuracy: 0.6060\n",
      "Epoch 38/50\n",
      "50000/50000 [==============================] - 3s 58us/step - loss: 0.5527 - accuracy: 0.8039 - val_loss: 1.3604 - val_accuracy: 0.6102\n",
      "Epoch 39/50\n",
      "50000/50000 [==============================] - 3s 59us/step - loss: 0.5401 - accuracy: 0.8107 - val_loss: 1.3666 - val_accuracy: 0.6017\n",
      "Epoch 40/50\n",
      "50000/50000 [==============================] - 3s 60us/step - loss: 0.5272 - accuracy: 0.8131 - val_loss: 1.3991 - val_accuracy: 0.6074\n",
      "Epoch 41/50\n",
      "50000/50000 [==============================] - 3s 59us/step - loss: 0.5226 - accuracy: 0.8154 - val_loss: 1.4061 - val_accuracy: 0.6101\n",
      "Epoch 42/50\n",
      "50000/50000 [==============================] - 3s 58us/step - loss: 0.5154 - accuracy: 0.8165 - val_loss: 1.4509 - val_accuracy: 0.6059\n",
      "Epoch 43/50\n",
      "50000/50000 [==============================] - 3s 58us/step - loss: 0.4976 - accuracy: 0.8248 - val_loss: 1.4831 - val_accuracy: 0.6004\n",
      "Epoch 44/50\n",
      "50000/50000 [==============================] - 3s 59us/step - loss: 0.4911 - accuracy: 0.8269 - val_loss: 1.4739 - val_accuracy: 0.6014\n",
      "Epoch 45/50\n",
      "50000/50000 [==============================] - 3s 60us/step - loss: 0.4764 - accuracy: 0.8320 - val_loss: 1.5655 - val_accuracy: 0.6047\n",
      "Epoch 46/50\n",
      "50000/50000 [==============================] - 3s 59us/step - loss: 0.4766 - accuracy: 0.8311 - val_loss: 1.5437 - val_accuracy: 0.6040\n",
      "Epoch 47/50\n",
      "50000/50000 [==============================] - 3s 61us/step - loss: 0.4626 - accuracy: 0.8383 - val_loss: 1.5551 - val_accuracy: 0.5990\n",
      "Epoch 48/50\n",
      "50000/50000 [==============================] - 3s 59us/step - loss: 0.4464 - accuracy: 0.8430 - val_loss: 1.6328 - val_accuracy: 0.5976\n",
      "Epoch 49/50\n",
      "50000/50000 [==============================] - 3s 60us/step - loss: 0.4448 - accuracy: 0.8430 - val_loss: 1.6059 - val_accuracy: 0.6047\n",
      "Epoch 50/50\n",
      "50000/50000 [==============================] - 3s 59us/step - loss: 0.4400 - accuracy: 0.8450 - val_loss: 1.6337 - val_accuracy: 0.5974\n"
     ]
    },
    {
     "data": {
      "text/plain": [
       "<keras.callbacks.callbacks.History at 0x7f8ca409ffd0>"
      ]
     },
     "execution_count": 6,
     "metadata": {},
     "output_type": "execute_result"
    }
   ],
   "source": [
    "c10_lenet.fit(c10_x_train, c10_y_train, validation_data = (c10_x_test, c10_y_test), batch_size = c10_batch_size, epochs = c10_epochs, shuffle = True)"
   ]
  },
  {
   "cell_type": "code",
   "execution_count": 7,
   "metadata": {},
   "outputs": [
    {
     "name": "stdout",
     "output_type": "stream",
     "text": [
      "10000/10000 [==============================] - 1s 78us/step\n",
      "Test loss: 1.6336906103134154\n",
      "Test accuracy: 0.5974000096321106\n"
     ]
    }
   ],
   "source": [
    "scores = c10_lenet.evaluate(c10_x_test, c10_y_test)\n",
    "print('Test loss:', scores[0])\n",
    "print('Test accuracy:', scores[1])"
   ]
  },
  {
   "cell_type": "code",
   "execution_count": 8,
   "metadata": {},
   "outputs": [],
   "source": [
    "c10_lenet.save('c10_lenet.h5')\n",
    "c10_lenet.save_weights('c10_lenet_weights.h5')"
   ]
  },
  {
   "cell_type": "code",
   "execution_count": 9,
   "metadata": {},
   "outputs": [
    {
     "name": "stdout",
     "output_type": "stream",
     "text": [
      "Class: airplane Test accuracy: 0.6029999852180481\n",
      "Class: automobile Test accuracy: 0.6990000009536743\n",
      "Class: bird Test accuracy: 0.5070000290870667\n",
      "Class: cat Test accuracy: 0.4129999876022339\n",
      "Class: deer Test accuracy: 0.5490000247955322\n",
      "Class: dog Test accuracy: 0.5180000066757202\n",
      "Class: frog Test accuracy: 0.6859999895095825\n",
      "Class: horse Test accuracy: 0.6340000033378601\n",
      "Class: ship Test accuracy: 0.7139999866485596\n",
      "Class: truck Test accuracy: 0.6510000228881836\n"
     ]
    }
   ],
   "source": [
    "predictions = {}\n",
    "for i in range(c10_num_classes):\n",
    "    index = np.where(c10_y_test_orig == i)\n",
    "    slice_x_test = c10_x_test[index[0]]\n",
    "    slice_y_test = c10_y_test[index[0]]\n",
    "    scores = c10_lenet.evaluate(slice_x_test, slice_y_test, verbose = 0)\n",
    "    print('Class: ' + c10_class_name[i] + ' Test accuracy: ' + str(scores[1]))\n",
    "    predictions[c10_class_name[i]] = str(scores[1])"
   ]
  },
  {
   "cell_type": "markdown",
   "metadata": {},
   "source": [
    "### CIFAR - 100"
   ]
  },
  {
   "cell_type": "code",
   "execution_count": 10,
   "metadata": {},
   "outputs": [
    {
     "name": "stdout",
     "output_type": "stream",
     "text": [
      "(50000, 32, 32, 3) (10000, 32, 32, 3) (50000, 100) (10000, 100)\n"
     ]
    }
   ],
   "source": [
    "# Load data\n",
    "(c100_x_train_orig, c100_y_train_orig), (c100_x_test_orig, c100_y_test_orig) = cifar100.load_data()\n",
    "\n",
    "# Pre-processing X\n",
    "c100_x_train = c100_x_train_orig.astype('float32')\n",
    "c100_x_test = c100_x_test_orig.astype('float32')\n",
    "c100_x_train = c100_x_train/255\n",
    "c100_x_test = c100_x_test/255\n",
    "\n",
    "# Hyper-parameters\n",
    "c100_epochs = 100\n",
    "c100_batch_size = 128\n",
    "c100_num_classes = 100\n",
    "c100_input_shape = c100_x_train.shape[1:]\n",
    "\n",
    "# Pre-processing Y\n",
    "c100_y_train = keras.utils.to_categorical(c100_y_train_orig, c100_num_classes)\n",
    "c100_y_test = keras.utils.to_categorical(c100_y_test_orig, c100_num_classes)\n",
    "\n",
    "print(c100_x_train.shape, c100_x_test.shape, c100_y_train.shape, c100_y_test.shape)"
   ]
  },
  {
   "cell_type": "code",
   "execution_count": 11,
   "metadata": {},
   "outputs": [],
   "source": [
    "c100_lenet = Lenet(c100_input_shape, c100_num_classes)\n",
    "#c100_lenet.summary()"
   ]
  },
  {
   "cell_type": "code",
   "execution_count": 12,
   "metadata": {},
   "outputs": [
    {
     "name": "stdout",
     "output_type": "stream",
     "text": [
      "Train on 50000 samples, validate on 10000 samples\n",
      "Epoch 1/100\n",
      "50000/50000 [==============================] - 3s 63us/step - loss: 4.1672 - accuracy: 0.0705 - val_loss: 3.7441 - val_accuracy: 0.1368\n",
      "Epoch 2/100\n",
      "50000/50000 [==============================] - 3s 61us/step - loss: 3.5911 - accuracy: 0.1597 - val_loss: 3.4664 - val_accuracy: 0.1799\n",
      "Epoch 3/100\n",
      "50000/50000 [==============================] - 3s 59us/step - loss: 3.3565 - accuracy: 0.1979 - val_loss: 3.3132 - val_accuracy: 0.2134\n",
      "Epoch 4/100\n",
      "50000/50000 [==============================] - 3s 59us/step - loss: 3.2138 - accuracy: 0.2244 - val_loss: 3.2165 - val_accuracy: 0.2297\n",
      "Epoch 5/100\n",
      "50000/50000 [==============================] - 3s 59us/step - loss: 3.1092 - accuracy: 0.2427 - val_loss: 3.1365 - val_accuracy: 0.2399\n",
      "Epoch 6/100\n",
      "50000/50000 [==============================] - 3s 59us/step - loss: 3.0286 - accuracy: 0.2577 - val_loss: 3.1429 - val_accuracy: 0.2375\n",
      "Epoch 7/100\n",
      "50000/50000 [==============================] - 3s 60us/step - loss: 2.9604 - accuracy: 0.2729 - val_loss: 3.0304 - val_accuracy: 0.2661\n",
      "Epoch 8/100\n",
      "50000/50000 [==============================] - 3s 59us/step - loss: 2.8946 - accuracy: 0.2859 - val_loss: 3.0156 - val_accuracy: 0.2622\n",
      "Epoch 9/100\n",
      "50000/50000 [==============================] - 3s 61us/step - loss: 2.8407 - accuracy: 0.2945 - val_loss: 2.9911 - val_accuracy: 0.2656\n",
      "Epoch 10/100\n",
      "50000/50000 [==============================] - 3s 59us/step - loss: 2.7920 - accuracy: 0.3064 - val_loss: 2.9725 - val_accuracy: 0.2757\n",
      "Epoch 11/100\n",
      "50000/50000 [==============================] - 3s 60us/step - loss: 2.7453 - accuracy: 0.3119 - val_loss: 2.9486 - val_accuracy: 0.2757\n",
      "Epoch 12/100\n",
      "50000/50000 [==============================] - 3s 59us/step - loss: 2.7087 - accuracy: 0.3186 - val_loss: 2.9571 - val_accuracy: 0.2814\n",
      "Epoch 13/100\n",
      "50000/50000 [==============================] - 3s 60us/step - loss: 2.6661 - accuracy: 0.3288 - val_loss: 2.9087 - val_accuracy: 0.2904\n",
      "Epoch 14/100\n",
      "50000/50000 [==============================] - 3s 58us/step - loss: 2.6346 - accuracy: 0.3367 - val_loss: 2.9283 - val_accuracy: 0.2869\n",
      "Epoch 15/100\n",
      "50000/50000 [==============================] - 3s 61us/step - loss: 2.6005 - accuracy: 0.3437 - val_loss: 2.9321 - val_accuracy: 0.2847\n",
      "Epoch 16/100\n",
      "50000/50000 [==============================] - 3s 59us/step - loss: 2.5712 - accuracy: 0.3488 - val_loss: 2.8762 - val_accuracy: 0.2987\n",
      "Epoch 17/100\n",
      "50000/50000 [==============================] - 3s 60us/step - loss: 2.5456 - accuracy: 0.3546 - val_loss: 2.8984 - val_accuracy: 0.2981\n",
      "Epoch 18/100\n",
      "50000/50000 [==============================] - 3s 60us/step - loss: 2.5216 - accuracy: 0.3593 - val_loss: 2.8903 - val_accuracy: 0.2975\n",
      "Epoch 19/100\n",
      "50000/50000 [==============================] - 3s 59us/step - loss: 2.4901 - accuracy: 0.3668 - val_loss: 2.8825 - val_accuracy: 0.2996\n",
      "Epoch 20/100\n",
      "50000/50000 [==============================] - 3s 58us/step - loss: 2.4683 - accuracy: 0.3690 - val_loss: 2.8889 - val_accuracy: 0.2997\n",
      "Epoch 21/100\n",
      "50000/50000 [==============================] - 3s 58us/step - loss: 2.4437 - accuracy: 0.3753 - val_loss: 2.8991 - val_accuracy: 0.3047\n",
      "Epoch 22/100\n",
      "50000/50000 [==============================] - 3s 59us/step - loss: 2.4223 - accuracy: 0.3799 - val_loss: 2.8751 - val_accuracy: 0.3056\n",
      "Epoch 23/100\n",
      "50000/50000 [==============================] - 3s 59us/step - loss: 2.3964 - accuracy: 0.3853 - val_loss: 2.9279 - val_accuracy: 0.2946\n",
      "Epoch 24/100\n",
      "50000/50000 [==============================] - 3s 59us/step - loss: 2.3757 - accuracy: 0.3901 - val_loss: 2.8795 - val_accuracy: 0.3059\n",
      "Epoch 25/100\n",
      "50000/50000 [==============================] - 3s 59us/step - loss: 2.3543 - accuracy: 0.3939 - val_loss: 2.8905 - val_accuracy: 0.2994\n",
      "Epoch 26/100\n",
      "50000/50000 [==============================] - 3s 60us/step - loss: 2.3335 - accuracy: 0.3994 - val_loss: 2.9154 - val_accuracy: 0.3043\n",
      "Epoch 27/100\n",
      "50000/50000 [==============================] - 3s 58us/step - loss: 2.3173 - accuracy: 0.4025 - val_loss: 2.9098 - val_accuracy: 0.3072\n",
      "Epoch 28/100\n",
      "50000/50000 [==============================] - 3s 58us/step - loss: 2.3013 - accuracy: 0.4056 - val_loss: 2.9331 - val_accuracy: 0.3036\n",
      "Epoch 29/100\n",
      "50000/50000 [==============================] - 3s 59us/step - loss: 2.2788 - accuracy: 0.4110 - val_loss: 2.9126 - val_accuracy: 0.3050\n",
      "Epoch 30/100\n",
      "50000/50000 [==============================] - 3s 61us/step - loss: 2.2679 - accuracy: 0.4138 - val_loss: 2.9198 - val_accuracy: 0.3000\n",
      "Epoch 31/100\n",
      "50000/50000 [==============================] - 3s 57us/step - loss: 2.2526 - accuracy: 0.4145 - val_loss: 2.9004 - val_accuracy: 0.3090\n",
      "Epoch 32/100\n",
      "50000/50000 [==============================] - 3s 60us/step - loss: 2.2292 - accuracy: 0.4224 - val_loss: 2.9508 - val_accuracy: 0.3004\n",
      "Epoch 33/100\n",
      "50000/50000 [==============================] - 3s 59us/step - loss: 2.2208 - accuracy: 0.4222 - val_loss: 2.9331 - val_accuracy: 0.3074\n",
      "Epoch 34/100\n",
      "50000/50000 [==============================] - 3s 59us/step - loss: 2.2014 - accuracy: 0.4269 - val_loss: 3.0091 - val_accuracy: 0.3053\n",
      "Epoch 35/100\n",
      "50000/50000 [==============================] - 3s 60us/step - loss: 2.1884 - accuracy: 0.4301 - val_loss: 2.9378 - val_accuracy: 0.3030\n",
      "Epoch 36/100\n",
      "50000/50000 [==============================] - 3s 60us/step - loss: 2.1816 - accuracy: 0.4313 - val_loss: 2.9738 - val_accuracy: 0.3018\n",
      "Epoch 37/100\n",
      "50000/50000 [==============================] - 3s 59us/step - loss: 2.1583 - accuracy: 0.4359 - val_loss: 3.0038 - val_accuracy: 0.2940\n",
      "Epoch 38/100\n",
      "50000/50000 [==============================] - 3s 60us/step - loss: 2.1526 - accuracy: 0.4372 - val_loss: 2.9733 - val_accuracy: 0.3063\n",
      "Epoch 39/100\n",
      "50000/50000 [==============================] - 3s 60us/step - loss: 2.1370 - accuracy: 0.4406 - val_loss: 2.9999 - val_accuracy: 0.3083\n",
      "Epoch 40/100\n",
      "50000/50000 [==============================] - 3s 57us/step - loss: 2.1313 - accuracy: 0.4410 - val_loss: 2.9819 - val_accuracy: 0.3055\n",
      "Epoch 41/100\n",
      "50000/50000 [==============================] - 3s 59us/step - loss: 2.1081 - accuracy: 0.4456 - val_loss: 3.0317 - val_accuracy: 0.2964\n",
      "Epoch 42/100\n",
      "50000/50000 [==============================] - 3s 59us/step - loss: 2.1029 - accuracy: 0.4489 - val_loss: 2.9966 - val_accuracy: 0.3049\n",
      "Epoch 43/100\n",
      "50000/50000 [==============================] - 3s 60us/step - loss: 2.0871 - accuracy: 0.4521 - val_loss: 3.0159 - val_accuracy: 0.3061\n",
      "Epoch 44/100\n",
      "50000/50000 [==============================] - 3s 59us/step - loss: 2.0799 - accuracy: 0.4512 - val_loss: 3.0591 - val_accuracy: 0.2966\n",
      "Epoch 45/100\n",
      "50000/50000 [==============================] - 3s 60us/step - loss: 2.0660 - accuracy: 0.4548 - val_loss: 3.0272 - val_accuracy: 0.3038\n",
      "Epoch 46/100\n",
      "50000/50000 [==============================] - 3s 58us/step - loss: 2.0517 - accuracy: 0.4594 - val_loss: 3.0200 - val_accuracy: 0.3073\n",
      "Epoch 47/100\n",
      "50000/50000 [==============================] - 3s 59us/step - loss: 2.0429 - accuracy: 0.4599 - val_loss: 3.0488 - val_accuracy: 0.3013\n",
      "Epoch 48/100\n",
      "50000/50000 [==============================] - 3s 58us/step - loss: 2.0325 - accuracy: 0.4621 - val_loss: 3.0554 - val_accuracy: 0.2996\n",
      "Epoch 49/100\n",
      "50000/50000 [==============================] - 3s 58us/step - loss: 2.0315 - accuracy: 0.4632 - val_loss: 3.0944 - val_accuracy: 0.3008\n",
      "Epoch 50/100\n",
      "50000/50000 [==============================] - 3s 59us/step - loss: 2.0102 - accuracy: 0.4664 - val_loss: 3.0789 - val_accuracy: 0.2972\n",
      "Epoch 51/100\n",
      "50000/50000 [==============================] - 3s 60us/step - loss: 1.9986 - accuracy: 0.4705 - val_loss: 3.0933 - val_accuracy: 0.2994\n",
      "Epoch 52/100\n",
      "50000/50000 [==============================] - 3s 59us/step - loss: 1.9925 - accuracy: 0.4712 - val_loss: 3.1080 - val_accuracy: 0.2992\n",
      "Epoch 53/100\n",
      "50000/50000 [==============================] - 3s 60us/step - loss: 1.9860 - accuracy: 0.4715 - val_loss: 3.1105 - val_accuracy: 0.3010\n",
      "Epoch 54/100\n",
      "50000/50000 [==============================] - 3s 60us/step - loss: 1.9784 - accuracy: 0.4739 - val_loss: 3.1350 - val_accuracy: 0.3007\n",
      "Epoch 55/100\n",
      "50000/50000 [==============================] - 3s 60us/step - loss: 1.9701 - accuracy: 0.4775 - val_loss: 3.1058 - val_accuracy: 0.2981\n",
      "Epoch 56/100\n",
      "50000/50000 [==============================] - 3s 60us/step - loss: 1.9580 - accuracy: 0.4798 - val_loss: 3.1219 - val_accuracy: 0.3020\n",
      "Epoch 57/100\n",
      "50000/50000 [==============================] - 3s 58us/step - loss: 1.9547 - accuracy: 0.4811 - val_loss: 3.1428 - val_accuracy: 0.3024\n",
      "Epoch 58/100\n",
      "50000/50000 [==============================] - 3s 58us/step - loss: 1.9409 - accuracy: 0.4840 - val_loss: 3.1777 - val_accuracy: 0.2960\n",
      "Epoch 59/100\n",
      "50000/50000 [==============================] - 3s 59us/step - loss: 1.9314 - accuracy: 0.4858 - val_loss: 3.1738 - val_accuracy: 0.2912\n",
      "Epoch 60/100\n",
      "50000/50000 [==============================] - 3s 60us/step - loss: 1.9231 - accuracy: 0.4875 - val_loss: 3.1588 - val_accuracy: 0.3029\n",
      "Epoch 61/100\n",
      "50000/50000 [==============================] - 3s 58us/step - loss: 1.9154 - accuracy: 0.4880 - val_loss: 3.1755 - val_accuracy: 0.2980\n",
      "Epoch 62/100\n",
      "50000/50000 [==============================] - 3s 59us/step - loss: 1.9079 - accuracy: 0.4887 - val_loss: 3.2159 - val_accuracy: 0.2992\n",
      "Epoch 63/100\n",
      "50000/50000 [==============================] - 3s 58us/step - loss: 1.9012 - accuracy: 0.4905 - val_loss: 3.1837 - val_accuracy: 0.2975\n",
      "Epoch 64/100\n",
      "50000/50000 [==============================] - 3s 58us/step - loss: 1.8972 - accuracy: 0.4935 - val_loss: 3.1975 - val_accuracy: 0.2971\n",
      "Epoch 65/100\n",
      "50000/50000 [==============================] - 3s 58us/step - loss: 1.8815 - accuracy: 0.4956 - val_loss: 3.1971 - val_accuracy: 0.2958\n",
      "Epoch 66/100\n",
      "50000/50000 [==============================] - 3s 60us/step - loss: 1.8838 - accuracy: 0.4959 - val_loss: 3.2481 - val_accuracy: 0.2945\n",
      "Epoch 67/100\n",
      "50000/50000 [==============================] - 3s 59us/step - loss: 1.8757 - accuracy: 0.4973 - val_loss: 3.1950 - val_accuracy: 0.2960\n",
      "Epoch 68/100\n",
      "50000/50000 [==============================] - 3s 59us/step - loss: 1.8730 - accuracy: 0.4974 - val_loss: 3.2349 - val_accuracy: 0.3005\n",
      "Epoch 69/100\n",
      "50000/50000 [==============================] - 3s 57us/step - loss: 1.8581 - accuracy: 0.5023 - val_loss: 3.2585 - val_accuracy: 0.2917\n",
      "Epoch 70/100\n",
      "50000/50000 [==============================] - 3s 61us/step - loss: 1.8585 - accuracy: 0.5002 - val_loss: 3.2749 - val_accuracy: 0.2916\n",
      "Epoch 71/100\n",
      "50000/50000 [==============================] - 3s 60us/step - loss: 1.8465 - accuracy: 0.5018 - val_loss: 3.2579 - val_accuracy: 0.2903\n",
      "Epoch 72/100\n",
      "50000/50000 [==============================] - 3s 59us/step - loss: 1.8351 - accuracy: 0.5051 - val_loss: 3.2441 - val_accuracy: 0.2973\n",
      "Epoch 73/100\n",
      "50000/50000 [==============================] - 3s 60us/step - loss: 1.8317 - accuracy: 0.5085 - val_loss: 3.3062 - val_accuracy: 0.2943\n",
      "Epoch 74/100\n",
      "50000/50000 [==============================] - 3s 58us/step - loss: 1.8323 - accuracy: 0.5058 - val_loss: 3.2897 - val_accuracy: 0.3002\n",
      "Epoch 75/100\n",
      "50000/50000 [==============================] - 3s 58us/step - loss: 1.8239 - accuracy: 0.5079 - val_loss: 3.2766 - val_accuracy: 0.2978\n",
      "Epoch 76/100\n",
      "50000/50000 [==============================] - 3s 58us/step - loss: 1.8142 - accuracy: 0.5112 - val_loss: 3.3201 - val_accuracy: 0.2930\n",
      "Epoch 77/100\n",
      "50000/50000 [==============================] - 3s 60us/step - loss: 1.8148 - accuracy: 0.5091 - val_loss: 3.3523 - val_accuracy: 0.2945\n",
      "Epoch 78/100\n",
      "50000/50000 [==============================] - 3s 60us/step - loss: 1.8079 - accuracy: 0.5119 - val_loss: 3.3286 - val_accuracy: 0.2960\n",
      "Epoch 79/100\n",
      "50000/50000 [==============================] - 3s 61us/step - loss: 1.8022 - accuracy: 0.5142 - val_loss: 3.3326 - val_accuracy: 0.2949\n",
      "Epoch 80/100\n",
      "50000/50000 [==============================] - 3s 59us/step - loss: 1.7926 - accuracy: 0.5151 - val_loss: 3.3492 - val_accuracy: 0.2992\n",
      "Epoch 81/100\n",
      "50000/50000 [==============================] - 3s 61us/step - loss: 1.7868 - accuracy: 0.5171 - val_loss: 3.3506 - val_accuracy: 0.2933\n",
      "Epoch 82/100\n",
      "50000/50000 [==============================] - 3s 60us/step - loss: 1.7859 - accuracy: 0.5160 - val_loss: 3.3388 - val_accuracy: 0.2945\n",
      "Epoch 83/100\n",
      "50000/50000 [==============================] - 3s 62us/step - loss: 1.7743 - accuracy: 0.5190 - val_loss: 3.3887 - val_accuracy: 0.2961\n",
      "Epoch 84/100\n",
      "50000/50000 [==============================] - 3s 61us/step - loss: 1.7700 - accuracy: 0.5203 - val_loss: 3.3580 - val_accuracy: 0.2921\n",
      "Epoch 85/100\n",
      "50000/50000 [==============================] - 3s 60us/step - loss: 1.7651 - accuracy: 0.5193 - val_loss: 3.4066 - val_accuracy: 0.2955\n",
      "Epoch 86/100\n",
      "50000/50000 [==============================] - 3s 61us/step - loss: 1.7613 - accuracy: 0.5233 - val_loss: 3.3613 - val_accuracy: 0.2936\n",
      "Epoch 87/100\n",
      "50000/50000 [==============================] - 3s 61us/step - loss: 1.7551 - accuracy: 0.5244 - val_loss: 3.4209 - val_accuracy: 0.2985\n",
      "Epoch 88/100\n",
      "50000/50000 [==============================] - 3s 61us/step - loss: 1.7538 - accuracy: 0.5232 - val_loss: 3.4074 - val_accuracy: 0.2925\n",
      "Epoch 89/100\n",
      "50000/50000 [==============================] - 3s 61us/step - loss: 1.7434 - accuracy: 0.5263 - val_loss: 3.4650 - val_accuracy: 0.2925\n",
      "Epoch 90/100\n",
      "50000/50000 [==============================] - 3s 61us/step - loss: 1.7405 - accuracy: 0.5253 - val_loss: 3.4541 - val_accuracy: 0.2876\n",
      "Epoch 91/100\n",
      "50000/50000 [==============================] - 3s 60us/step - loss: 1.7428 - accuracy: 0.5254 - val_loss: 3.4260 - val_accuracy: 0.2898\n",
      "Epoch 92/100\n",
      "50000/50000 [==============================] - 3s 61us/step - loss: 1.7388 - accuracy: 0.5256 - val_loss: 3.4629 - val_accuracy: 0.2940\n",
      "Epoch 93/100\n",
      "50000/50000 [==============================] - 3s 60us/step - loss: 1.7290 - accuracy: 0.5298 - val_loss: 3.4522 - val_accuracy: 0.2891\n",
      "Epoch 94/100\n",
      "50000/50000 [==============================] - 3s 61us/step - loss: 1.7221 - accuracy: 0.5319 - val_loss: 3.5500 - val_accuracy: 0.2846\n",
      "Epoch 95/100\n",
      "50000/50000 [==============================] - 3s 60us/step - loss: 1.7196 - accuracy: 0.5318 - val_loss: 3.4749 - val_accuracy: 0.2898\n",
      "Epoch 96/100\n",
      "50000/50000 [==============================] - 3s 60us/step - loss: 1.7123 - accuracy: 0.5335 - val_loss: 3.5040 - val_accuracy: 0.2920\n",
      "Epoch 97/100\n",
      "50000/50000 [==============================] - 3s 60us/step - loss: 1.7072 - accuracy: 0.5362 - val_loss: 3.4677 - val_accuracy: 0.2885\n",
      "Epoch 98/100\n",
      "50000/50000 [==============================] - 3s 60us/step - loss: 1.7014 - accuracy: 0.5360 - val_loss: 3.5478 - val_accuracy: 0.2896\n",
      "Epoch 99/100\n",
      "50000/50000 [==============================] - 3s 61us/step - loss: 1.6963 - accuracy: 0.5374 - val_loss: 3.5081 - val_accuracy: 0.2877\n",
      "Epoch 100/100\n",
      "50000/50000 [==============================] - 3s 59us/step - loss: 1.6945 - accuracy: 0.5389 - val_loss: 3.5401 - val_accuracy: 0.2843\n"
     ]
    },
    {
     "data": {
      "text/plain": [
       "<keras.callbacks.callbacks.History at 0x7f8d39cb2160>"
      ]
     },
     "execution_count": 12,
     "metadata": {},
     "output_type": "execute_result"
    }
   ],
   "source": [
    "c100_lenet.fit(c100_x_train, c100_y_train, validation_data = (c100_x_test, c100_y_test), batch_size = c100_batch_size, epochs = c100_epochs, shuffle = True)"
   ]
  },
  {
   "cell_type": "code",
   "execution_count": 13,
   "metadata": {},
   "outputs": [
    {
     "name": "stdout",
     "output_type": "stream",
     "text": [
      "10000/10000 [==============================] - 1s 78us/step\n",
      "Test loss: 3.540067743682861\n",
      "Test accuracy: 0.2842999994754791\n"
     ]
    }
   ],
   "source": [
    "scores = c100_lenet.evaluate(c100_x_test, c100_y_test, verbose=1)\n",
    "print('Test loss:', scores[0])\n",
    "print('Test accuracy:', scores[1])"
   ]
  },
  {
   "cell_type": "code",
   "execution_count": 14,
   "metadata": {},
   "outputs": [],
   "source": [
    "c100_lenet.save('c100_lenet.h5')\n",
    "c100_lenet.save_weights('c100_lenet_weights.h5')"
   ]
  },
  {
   "cell_type": "code",
   "execution_count": 15,
   "metadata": {},
   "outputs": [
    {
     "name": "stdout",
     "output_type": "stream",
     "text": [
      "Class: apple Test accuracy: 0.5199999809265137\n",
      "Class: aquarium_fish Test accuracy: 0.3499999940395355\n",
      "Class: baby Test accuracy: 0.23999999463558197\n",
      "Class: bear Test accuracy: 0.11999999731779099\n",
      "Class: beaver Test accuracy: 0.03999999910593033\n",
      "Class: bed Test accuracy: 0.17000000178813934\n",
      "Class: bee Test accuracy: 0.1899999976158142\n",
      "Class: beetle Test accuracy: 0.27000001072883606\n",
      "Class: bicycle Test accuracy: 0.3199999928474426\n",
      "Class: bottle Test accuracy: 0.3499999940395355\n",
      "Class: bowl Test accuracy: 0.05999999865889549\n",
      "Class: boy Test accuracy: 0.10000000149011612\n",
      "Class: bridge Test accuracy: 0.23999999463558197\n",
      "Class: bus Test accuracy: 0.30000001192092896\n",
      "Class: butterfly Test accuracy: 0.30000001192092896\n",
      "Class: camel Test accuracy: 0.10999999940395355\n",
      "Class: can Test accuracy: 0.30000001192092896\n",
      "Class: castle Test accuracy: 0.3799999952316284\n",
      "Class: caterpillar Test accuracy: 0.17000000178813934\n",
      "Class: cattle Test accuracy: 0.11999999731779099\n",
      "Class: chair Test accuracy: 0.5600000023841858\n",
      "Class: chimpanzee Test accuracy: 0.3700000047683716\n",
      "Class: clock Test accuracy: 0.25999999046325684\n",
      "Class: cloud Test accuracy: 0.3199999928474426\n",
      "Class: cockroach Test accuracy: 0.5899999737739563\n",
      "Class: couch Test accuracy: 0.1599999964237213\n",
      "Class: crab Test accuracy: 0.1899999976158142\n",
      "Class: crocodile Test accuracy: 0.2199999988079071\n",
      "Class: cup Test accuracy: 0.4300000071525574\n",
      "Class: dinosaur Test accuracy: 0.25999999046325684\n",
      "Class: dolphin Test accuracy: 0.38999998569488525\n",
      "Class: elephant Test accuracy: 0.20000000298023224\n",
      "Class: flatfish Test accuracy: 0.25\n",
      "Class: forest Test accuracy: 0.17000000178813934\n",
      "Class: fox Test accuracy: 0.12999999523162842\n",
      "Class: girl Test accuracy: 0.10999999940395355\n",
      "Class: hamster Test accuracy: 0.2199999988079071\n",
      "Class: house Test accuracy: 0.2199999988079071\n",
      "Class: kangaroo Test accuracy: 0.09000000357627869\n",
      "Class: keyboard Test accuracy: 0.3700000047683716\n",
      "Class: lamp Test accuracy: 0.25\n",
      "Class: lawn_mower Test accuracy: 0.49000000953674316\n",
      "Class: leopard Test accuracy: 0.17000000178813934\n",
      "Class: lion Test accuracy: 0.36000001430511475\n",
      "Class: lizard Test accuracy: 0.10999999940395355\n",
      "Class: lobster Test accuracy: 0.11999999731779099\n",
      "Class: man Test accuracy: 0.20000000298023224\n",
      "Class: maple_tree Test accuracy: 0.49000000953674316\n",
      "Class: motorcycle Test accuracy: 0.46000000834465027\n",
      "Class: mountain Test accuracy: 0.33000001311302185\n",
      "Class: mouse Test accuracy: 0.09000000357627869\n",
      "Class: mushroom Test accuracy: 0.2800000011920929\n",
      "Class: oak_tree Test accuracy: 0.5400000214576721\n",
      "Class: orange Test accuracy: 0.49000000953674316\n",
      "Class: orchid Test accuracy: 0.4699999988079071\n",
      "Class: otter Test accuracy: 0.09000000357627869\n",
      "Class: palm_tree Test accuracy: 0.38999998569488525\n",
      "Class: pear Test accuracy: 0.36000001430511475\n",
      "Class: pickup_truck Test accuracy: 0.2800000011920929\n",
      "Class: pine_tree Test accuracy: 0.28999999165534973\n",
      "Class: plain Test accuracy: 0.7200000286102295\n",
      "Class: plate Test accuracy: 0.4399999976158142\n",
      "Class: poppy Test accuracy: 0.3799999952316284\n",
      "Class: porcupine Test accuracy: 0.25\n",
      "Class: possum Test accuracy: 0.09000000357627869\n",
      "Class: rabbit Test accuracy: 0.15000000596046448\n",
      "Class: raccoon Test accuracy: 0.10000000149011612\n",
      "Class: ray Test accuracy: 0.25\n",
      "Class: road Test accuracy: 0.5199999809265137\n",
      "Class: rocket Test accuracy: 0.4000000059604645\n",
      "Class: rose Test accuracy: 0.3799999952316284\n",
      "Class: sea Test accuracy: 0.5699999928474426\n",
      "Class: seal Test accuracy: 0.05000000074505806\n",
      "Class: shark Test accuracy: 0.25999999046325684\n",
      "Class: shrew Test accuracy: 0.11999999731779099\n",
      "Class: skunk Test accuracy: 0.46000000834465027\n",
      "Class: skyscraper Test accuracy: 0.550000011920929\n",
      "Class: snail Test accuracy: 0.15000000596046448\n",
      "Class: snake Test accuracy: 0.23000000417232513\n",
      "Class: spider Test accuracy: 0.25999999046325684\n",
      "Class: squirrel Test accuracy: 0.1599999964237213\n",
      "Class: streetcar Test accuracy: 0.23000000417232513\n",
      "Class: sunflower Test accuracy: 0.5299999713897705\n",
      "Class: sweet_pepper Test accuracy: 0.30000001192092896\n",
      "Class: table Test accuracy: 0.17000000178813934\n",
      "Class: tank Test accuracy: 0.41999998688697815\n",
      "Class: telephone Test accuracy: 0.25999999046325684\n",
      "Class: television Test accuracy: 0.33000001311302185\n",
      "Class: tiger Test accuracy: 0.1599999964237213\n",
      "Class: tractor Test accuracy: 0.30000001192092896\n",
      "Class: train Test accuracy: 0.25\n",
      "Class: trout Test accuracy: 0.5699999928474426\n",
      "Class: tulip Test accuracy: 0.12999999523162842\n",
      "Class: turtle Test accuracy: 0.14000000059604645\n",
      "Class: wardrobe Test accuracy: 0.5199999809265137\n",
      "Class: whale Test accuracy: 0.3799999952316284\n",
      "Class: willow_tree Test accuracy: 0.3100000023841858\n",
      "Class: wolf Test accuracy: 0.2199999988079071\n",
      "Class: woman Test accuracy: 0.09000000357627869\n",
      "Class: worm Test accuracy: 0.20999999344348907\n"
     ]
    }
   ],
   "source": [
    "predictions = {}\n",
    "for i in range(c100_num_classes):\n",
    "    index = np.where(c100_y_test_orig == i)\n",
    "    slice_x_test = c100_x_test[index[0]]\n",
    "    slice_y_test = c100_y_test[index[0]]\n",
    "    scores = c100_lenet.evaluate(slice_x_test, slice_y_test, verbose = 0)\n",
    "    print('Class: ' + c100_class_name[i] + ' Test accuracy: ' + str(scores[1]))\n",
    "    predictions[c100_class_name[i]] = str(scores[1])"
   ]
  },
  {
   "cell_type": "code",
   "execution_count": null,
   "metadata": {},
   "outputs": [],
   "source": []
  }
 ],
 "metadata": {
  "kernelspec": {
   "display_name": "Python 3",
   "language": "python",
   "name": "python3"
  },
  "language_info": {
   "codemirror_mode": {
    "name": "ipython",
    "version": 3
   },
   "file_extension": ".py",
   "mimetype": "text/x-python",
   "name": "python",
   "nbconvert_exporter": "python",
   "pygments_lexer": "ipython3",
   "version": "3.6.8"
  }
 },
 "nbformat": 4,
 "nbformat_minor": 4
}
