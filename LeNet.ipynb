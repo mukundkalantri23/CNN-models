{
  "nbformat": 4,
  "nbformat_minor": 0,
  "metadata": {
    "colab": {
      "name": "LeNet.ipynb",
      "provenance": [],
      "collapsed_sections": [],
      "toc_visible": true
    },
    "kernelspec": {
      "name": "python3",
      "display_name": "Python 3"
    }
  },
  "cells": [
    {
      "cell_type": "code",
      "metadata": {
        "id": "Of2g-6-2F2AU",
        "colab_type": "code",
        "outputId": "cd79fb10-7f78-4267-daba-1d5b4c0f5792",
        "colab": {
          "base_uri": "https://localhost:8080/",
          "height": 34
        }
      },
      "source": [
        "import keras\n",
        "from keras import optimizers\n",
        "from keras.datasets import cifar10\n",
        "from keras.models import Sequential\n",
        "from keras.layers import Conv2D, Dense, Flatten, MaxPooling2D, AveragePooling2D"
      ],
      "execution_count": 0,
      "outputs": [
        {
          "output_type": "stream",
          "text": [
            "Using TensorFlow backend.\n"
          ],
          "name": "stderr"
        }
      ]
    },
    {
      "cell_type": "code",
      "metadata": {
        "id": "T7AMqJDUGJ6P",
        "colab_type": "code",
        "outputId": "7362928f-0684-4370-d18f-489af2f5c19c",
        "colab": {
          "base_uri": "https://localhost:8080/",
          "height": 425
        }
      },
      "source": [
        "lenet = Sequential()\n",
        "lenet.add(Conv2D(6, (5, 5), padding='valid', activation = 'relu', kernel_initializer='he_normal', input_shape=(32,32,3)))\n",
        "lenet.add(AveragePooling2D((2, 2), strides=(2, 2)))\n",
        "lenet.add(Conv2D(16, (5, 5), padding='valid', activation = 'relu', kernel_initializer='he_normal'))\n",
        "lenet.add(AveragePooling2D((2, 2), strides=(2, 2)))\n",
        "lenet.add(Flatten())\n",
        "lenet.add(Dense(120, activation = 'relu', kernel_initializer='he_normal'))\n",
        "lenet.add(Dense(84, activation = 'relu', kernel_initializer='he_normal'))\n",
        "lenet.add(Dense(10, activation = 'softmax', kernel_initializer='he_normal'))\n",
        "lenet.summary()\n",
        "lenet.compile(loss='categorical_crossentropy', optimizer='adam', metrics=['accuracy'])"
      ],
      "execution_count": 0,
      "outputs": [
        {
          "output_type": "stream",
          "text": [
            "Model: \"sequential_1\"\n",
            "_________________________________________________________________\n",
            "Layer (type)                 Output Shape              Param #   \n",
            "=================================================================\n",
            "conv2d_1 (Conv2D)            (None, 28, 28, 6)         456       \n",
            "_________________________________________________________________\n",
            "average_pooling2d_1 (Average (None, 14, 14, 6)         0         \n",
            "_________________________________________________________________\n",
            "conv2d_2 (Conv2D)            (None, 10, 10, 16)        2416      \n",
            "_________________________________________________________________\n",
            "average_pooling2d_2 (Average (None, 5, 5, 16)          0         \n",
            "_________________________________________________________________\n",
            "flatten_1 (Flatten)          (None, 400)               0         \n",
            "_________________________________________________________________\n",
            "dense_1 (Dense)              (None, 120)               48120     \n",
            "_________________________________________________________________\n",
            "dense_2 (Dense)              (None, 84)                10164     \n",
            "_________________________________________________________________\n",
            "dense_3 (Dense)              (None, 10)                850       \n",
            "=================================================================\n",
            "Total params: 62,006\n",
            "Trainable params: 62,006\n",
            "Non-trainable params: 0\n",
            "_________________________________________________________________\n"
          ],
          "name": "stdout"
        }
      ]
    },
    {
      "cell_type": "code",
      "metadata": {
        "id": "jpXobW2zGqkL",
        "colab_type": "code",
        "colab": {}
      },
      "source": [
        "(x_train, y_train), (x_test, y_test) = cifar10.load_data()\n",
        "y_train = keras.utils.to_categorical(y_train, 10)\n",
        "y_test = keras.utils.to_categorical(y_test, 10)\n",
        "x_train = x_train.astype('float32')\n",
        "x_test = x_test.astype('float32')\n",
        "x_train /= 255.0\n",
        "x_test /= 255.0"
      ],
      "execution_count": 0,
      "outputs": []
    },
    {
      "cell_type": "code",
      "metadata": {
        "id": "LrfNoAuUG2Eq",
        "colab_type": "code",
        "outputId": "96e3b344-38f4-4938-9674-6216507700ac",
        "colab": {
          "base_uri": "https://localhost:8080/",
          "height": 1000
        }
      },
      "source": [
        "lenet.fit(x_train, y_train, batch_size=128, epochs=50, shuffle=True)"
      ],
      "execution_count": 0,
      "outputs": [
        {
          "output_type": "stream",
          "text": [
            "Epoch 1/50\n",
            "50000/50000 [==============================] - 33s 662us/step - loss: 1.6720 - accuracy: 0.3839\n",
            "Epoch 2/50\n",
            "50000/50000 [==============================] - 33s 658us/step - loss: 1.4061 - accuracy: 0.4922\n",
            "Epoch 3/50\n",
            "50000/50000 [==============================] - 33s 658us/step - loss: 1.3206 - accuracy: 0.5259\n",
            "Epoch 4/50\n",
            "50000/50000 [==============================] - 33s 659us/step - loss: 1.2533 - accuracy: 0.5522\n",
            "Epoch 5/50\n",
            "50000/50000 [==============================] - 33s 662us/step - loss: 1.1973 - accuracy: 0.5743\n",
            "Epoch 6/50\n",
            "50000/50000 [==============================] - 33s 661us/step - loss: 1.1532 - accuracy: 0.5899\n",
            "Epoch 7/50\n",
            "50000/50000 [==============================] - 33s 663us/step - loss: 1.1155 - accuracy: 0.6036\n",
            "Epoch 8/50\n",
            "50000/50000 [==============================] - 33s 661us/step - loss: 1.0813 - accuracy: 0.6184\n",
            "Epoch 9/50\n",
            "50000/50000 [==============================] - 33s 663us/step - loss: 1.0463 - accuracy: 0.6286\n",
            "Epoch 10/50\n",
            "50000/50000 [==============================] - 33s 662us/step - loss: 1.0192 - accuracy: 0.6408\n",
            "Epoch 11/50\n",
            "50000/50000 [==============================] - 33s 659us/step - loss: 0.9909 - accuracy: 0.6496\n",
            "Epoch 12/50\n",
            "50000/50000 [==============================] - 33s 660us/step - loss: 0.9653 - accuracy: 0.6596\n",
            "Epoch 13/50\n",
            "50000/50000 [==============================] - 33s 660us/step - loss: 0.9371 - accuracy: 0.6676\n",
            "Epoch 14/50\n",
            "50000/50000 [==============================] - 33s 661us/step - loss: 0.9176 - accuracy: 0.6748\n",
            "Epoch 15/50\n",
            "50000/50000 [==============================] - 33s 660us/step - loss: 0.8967 - accuracy: 0.6835\n",
            "Epoch 16/50\n",
            "50000/50000 [==============================] - 33s 660us/step - loss: 0.8758 - accuracy: 0.6922\n",
            "Epoch 17/50\n",
            "50000/50000 [==============================] - 33s 661us/step - loss: 0.8581 - accuracy: 0.6973\n",
            "Epoch 18/50\n",
            "50000/50000 [==============================] - 33s 662us/step - loss: 0.8347 - accuracy: 0.7054\n",
            "Epoch 19/50\n",
            "50000/50000 [==============================] - 33s 658us/step - loss: 0.8224 - accuracy: 0.7099\n",
            "Epoch 20/50\n",
            "50000/50000 [==============================] - 33s 660us/step - loss: 0.8004 - accuracy: 0.7172\n",
            "Epoch 21/50\n",
            "50000/50000 [==============================] - 33s 659us/step - loss: 0.7838 - accuracy: 0.7239\n",
            "Epoch 22/50\n",
            "50000/50000 [==============================] - 33s 659us/step - loss: 0.7661 - accuracy: 0.7294\n",
            "Epoch 23/50\n",
            "50000/50000 [==============================] - 33s 659us/step - loss: 0.7504 - accuracy: 0.7351\n",
            "Epoch 24/50\n",
            "50000/50000 [==============================] - 33s 658us/step - loss: 0.7375 - accuracy: 0.7428\n",
            "Epoch 25/50\n",
            "50000/50000 [==============================] - 33s 659us/step - loss: 0.7212 - accuracy: 0.7465\n",
            "Epoch 26/50\n",
            "50000/50000 [==============================] - 33s 663us/step - loss: 0.7046 - accuracy: 0.7515\n",
            "Epoch 27/50\n",
            "50000/50000 [==============================] - 33s 661us/step - loss: 0.6920 - accuracy: 0.7581\n",
            "Epoch 28/50\n",
            "50000/50000 [==============================] - 33s 663us/step - loss: 0.6807 - accuracy: 0.7604\n",
            "Epoch 29/50\n",
            "50000/50000 [==============================] - 33s 661us/step - loss: 0.6624 - accuracy: 0.7677\n",
            "Epoch 30/50\n",
            "50000/50000 [==============================] - 33s 660us/step - loss: 0.6517 - accuracy: 0.7696\n",
            "Epoch 31/50\n",
            "50000/50000 [==============================] - 33s 660us/step - loss: 0.6430 - accuracy: 0.7738\n",
            "Epoch 32/50\n",
            "50000/50000 [==============================] - 33s 660us/step - loss: 0.6258 - accuracy: 0.7791\n",
            "Epoch 33/50\n",
            "50000/50000 [==============================] - 33s 660us/step - loss: 0.6180 - accuracy: 0.7826\n",
            "Epoch 34/50\n",
            "50000/50000 [==============================] - 33s 660us/step - loss: 0.6041 - accuracy: 0.7884\n",
            "Epoch 35/50\n",
            "50000/50000 [==============================] - 33s 662us/step - loss: 0.5897 - accuracy: 0.7892\n",
            "Epoch 36/50\n",
            "50000/50000 [==============================] - 33s 659us/step - loss: 0.5801 - accuracy: 0.7959\n",
            "Epoch 37/50\n",
            "50000/50000 [==============================] - 33s 660us/step - loss: 0.5685 - accuracy: 0.8003\n",
            "Epoch 38/50\n",
            "50000/50000 [==============================] - 33s 660us/step - loss: 0.5569 - accuracy: 0.8042\n",
            "Epoch 39/50\n",
            "50000/50000 [==============================] - 33s 660us/step - loss: 0.5464 - accuracy: 0.8065\n",
            "Epoch 40/50\n",
            "50000/50000 [==============================] - 33s 658us/step - loss: 0.5392 - accuracy: 0.8099\n",
            "Epoch 41/50\n",
            "50000/50000 [==============================] - 33s 659us/step - loss: 0.5279 - accuracy: 0.8127\n",
            "Epoch 42/50\n",
            "50000/50000 [==============================] - 33s 659us/step - loss: 0.5111 - accuracy: 0.8200\n",
            "Epoch 43/50\n",
            "50000/50000 [==============================] - 33s 659us/step - loss: 0.4992 - accuracy: 0.8224\n",
            "Epoch 44/50\n",
            "50000/50000 [==============================] - 33s 660us/step - loss: 0.4981 - accuracy: 0.8243\n",
            "Epoch 45/50\n",
            "50000/50000 [==============================] - 33s 660us/step - loss: 0.4876 - accuracy: 0.8270\n",
            "Epoch 46/50\n",
            "50000/50000 [==============================] - 33s 660us/step - loss: 0.4746 - accuracy: 0.8330\n",
            "Epoch 47/50\n",
            "50000/50000 [==============================] - 33s 659us/step - loss: 0.4682 - accuracy: 0.8347\n",
            "Epoch 48/50\n",
            "50000/50000 [==============================] - 33s 656us/step - loss: 0.4551 - accuracy: 0.8382\n",
            "Epoch 49/50\n",
            "50000/50000 [==============================] - 33s 660us/step - loss: 0.4546 - accuracy: 0.8395\n",
            "Epoch 50/50\n",
            "50000/50000 [==============================] - 33s 660us/step - loss: 0.4406 - accuracy: 0.8436\n"
          ],
          "name": "stdout"
        },
        {
          "output_type": "execute_result",
          "data": {
            "text/plain": [
              "<keras.callbacks.callbacks.History at 0x7f4687c79630>"
            ]
          },
          "metadata": {
            "tags": []
          },
          "execution_count": 4
        }
      ]
    },
    {
      "cell_type": "code",
      "metadata": {
        "id": "doYTL_wWHEAb",
        "colab_type": "code",
        "outputId": "72af8695-8d56-4a3c-ef3f-6338b628d0e3",
        "colab": {
          "base_uri": "https://localhost:8080/",
          "height": 68
        }
      },
      "source": [
        "scores = lenet.evaluate(x_test, y_test, verbose=1)\n",
        "print('Test loss:', scores[0])\n",
        "print('Test accuracy:', scores[1])"
      ],
      "execution_count": 0,
      "outputs": [
        {
          "output_type": "stream",
          "text": [
            "10000/10000 [==============================] - 4s 353us/step\n",
            "Test loss: 1.6401593954086304\n",
            "Test accuracy: 0.6001999974250793\n"
          ],
          "name": "stdout"
        }
      ]
    },
    {
      "cell_type": "code",
      "metadata": {
        "id": "CCd8oO1DHl4x",
        "colab_type": "code",
        "colab": {}
      },
      "source": [
        "lenet.save('lenet.h5')\n",
        "lenet.save_weights('lenet_weights.h5')"
      ],
      "execution_count": 0,
      "outputs": []
    },
    {
      "cell_type": "code",
      "metadata": {
        "id": "T-tnulptSsLP",
        "colab_type": "code",
        "colab": {}
      },
      "source": [
        ""
      ],
      "execution_count": 0,
      "outputs": []
    }
  ]
}