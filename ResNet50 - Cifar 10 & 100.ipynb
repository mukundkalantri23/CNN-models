{
 "cells": [
  {
   "cell_type": "code",
   "execution_count": 11,
   "metadata": {},
   "outputs": [],
   "source": [
    "#!pip install keras\n",
    "import keras\n",
    "import numpy as np\n",
    "from keras.datasets import cifar10, cifar100\n",
    "from keras.preprocessing.image import ImageDataGenerator\n",
    "from keras.models import Model\n",
    "from keras.layers import Input, ZeroPadding2D, Dense, Dropout, Activation, Add, Flatten\n",
    "from keras.layers import Conv2D, MaxPooling2D, GlobalAveragePooling2D, AveragePooling2D\n",
    "from keras.initializers import glorot_uniform\n",
    "from keras import optimizers\n",
    "from keras.layers.normalization import BatchNormalization"
   ]
  },
  {
   "cell_type": "code",
   "execution_count": 2,
   "metadata": {},
   "outputs": [],
   "source": [
    "from keras import backend as K\n",
    "if('tensorflow' == K.backend()):\n",
    "    import tensorflow as tf\n",
    "    from keras.backend.tensorflow_backend import set_session\n",
    "    config = tf.compat.v1.ConfigProto()\n",
    "    config.gpu_options.allow_growth = True\n",
    "    sess = tf.compat.v1.Session(config=config)"
   ]
  },
  {
   "cell_type": "code",
   "execution_count": 3,
   "metadata": {},
   "outputs": [],
   "source": [
    "def res_block(X, f, filters, stage, block, increase = False, s = 2):\n",
    "    \n",
    "    # Defining name basis\n",
    "    conv_name_base = 'res' + str(stage) + block + '_branch'\n",
    "    bn_name_base = 'bn' + str(stage) + block + '_branch'\n",
    "    \n",
    "    F1, F2, F3 = filters   # Retrieving filters\n",
    "    X_shortcut = X         # Saving input value\n",
    "    stride = (1,1)\n",
    "    \n",
    "    if increase:\n",
    "        stride = (s,s)\n",
    "        \n",
    "        #Shortcut Path\n",
    "        X_shortcut = Conv2D(F3, (1,1), strides = (s,s), name = conv_name_base + '1', kernel_initializer = glorot_uniform(seed = 0))(X_shortcut)\n",
    "        X_shortcut = BatchNormalization(axis = 3, name = bn_name_base + '1')(X_shortcut)\n",
    "\n",
    "    # First component of main path\n",
    "    X = Conv2D(filters = F1, kernel_size = (1, 1), strides = stride, padding = 'valid', name = conv_name_base + '2a', kernel_initializer = glorot_uniform(seed=0))(X)\n",
    "    X = BatchNormalization(axis = 3, name = bn_name_base + '2a')(X)\n",
    "    X = Activation('relu')(X)\n",
    "    \n",
    "    # Second component of main path (≈3 lines)\n",
    "    X = Conv2D(filters = F2, kernel_size = (f, f), strides = (1,1), padding = 'same', name = conv_name_base + '2b', kernel_initializer = glorot_uniform(seed = 0))(X)\n",
    "    X = BatchNormalization(axis = 3, name = bn_name_base + '2b')(X)\n",
    "    X = Activation('relu')(X)\n",
    "\n",
    "    # Third component of main path (≈2 lines)\n",
    "    X = Conv2D(filters  = F3, kernel_size = (1, 1), strides = (1,1), padding = 'valid', name = conv_name_base + '2c', kernel_initializer = glorot_uniform(seed = 0))(X)\n",
    "    X = BatchNormalization(axis = 3, name = bn_name_base + '2c')(X)\n",
    "\n",
    "    # Final step: Add shortcut value to main path, and pass it through a RELU activation (≈2 lines)\n",
    "    X = Add()([X_shortcut, X])\n",
    "    X = Activation('relu')(X)\n",
    "    \n",
    "    return X"
   ]
  },
  {
   "cell_type": "code",
   "execution_count": 4,
   "metadata": {},
   "outputs": [],
   "source": [
    "def ResNet50(input_shape, classes):\n",
    "    \n",
    "    X_input = Input(input_shape)\n",
    "\n",
    "    # Zero-Padding\n",
    "    X = ZeroPadding2D((3, 3))(X_input)\n",
    "    \n",
    "    # Stage 1\n",
    "    X = Conv2D(64, (7, 7), strides = (2, 2), name = 'conv1', kernel_initializer = glorot_uniform(seed=0), padding = 'same')(X)\n",
    "    X = BatchNormalization(axis = 3, name = 'bn_conv1')(X)\n",
    "    X = Activation('relu')(X)\n",
    "    X = MaxPooling2D((3, 3), strides=(2, 2))(X)\n",
    "\n",
    "    # Stage 2\n",
    "    X = res_block(X, f = 3, filters = [64, 64, 256], stage = 2, block='a', s = 1, increase = True)\n",
    "    X = res_block(X, 3, [64, 64, 256], stage=2, block='b')\n",
    "    X = res_block(X, 3, [64, 64, 256], stage=2, block='c')\n",
    "\n",
    "    # Stage 3 (≈4 lines)\n",
    "    X = res_block(X, f = 3, filters = [128,128,512], stage = 3, block = 'a', s = 2, increase = True)\n",
    "    X = res_block(X, 3, [128,128,512], stage = 3, block = 'b')\n",
    "    X = res_block(X, 3, [128,128,512], stage = 3, block = 'c')\n",
    "    X = res_block(X, 3, [128,128,512], stage = 3, block = 'd')\n",
    "    \n",
    "    # Stage 4 (≈6 lines)\n",
    "    X = res_block(X, f = 3, filters = [256, 256, 1024], stage = 4, block = 'a', s = 2, increase = True)\n",
    "    X = res_block(X, 3, [256, 256, 1024], stage = 4, block = 'b')\n",
    "    X = res_block(X, 3, [256, 256, 1024], stage = 4, block = 'c')\n",
    "    X = res_block(X, 3, [256, 256, 1024], stage = 4, block = 'd')\n",
    "    X = res_block(X, 3, [256, 256, 1024], stage = 4, block = 'e')\n",
    "    X = res_block(X, 3, [256, 256, 1024], stage = 4, block = 'f')\n",
    "    \n",
    "    # Stage 5 (≈3 lines)\n",
    "    X = res_block(X, f = 3, filters = [512, 512, 2048], stage = 5, block = 'a', s = 2, increase = True)\n",
    "    X = res_block(X, 3, [512, 512, 2048], stage = 5, block = 'b')\n",
    "    X = res_block(X, 3, [512, 512, 2048], stage = 5, block = 'c')\n",
    "    \n",
    "    # AVGPOOL (≈1 line). Use \"X = AveragePooling2D(...)(X)\"\n",
    "    X = AveragePooling2D((2,2))(X)\n",
    "    \n",
    "    # output layer\n",
    "    X = Flatten()(X)\n",
    "    X = Dense(classes, activation='softmax', name='output', kernel_initializer = glorot_uniform(seed=0))(X)\n",
    "    \n",
    "    # Create model\n",
    "    resnet = Model(inputs = X_input, outputs = X, name='ResNet50')\n",
    "\n",
    "    return resnet"
   ]
  },
  {
   "cell_type": "markdown",
   "metadata": {},
   "source": [
    "## CIFAR-10"
   ]
  },
  {
   "cell_type": "code",
   "execution_count": 5,
   "metadata": {},
   "outputs": [],
   "source": [
    "# Load data\n",
    "(c10_x_train, c10_y_train), (c10_x_test, c10_y_test) = cifar10.load_data()\n",
    "\n",
    "# Hyper-parameters\n",
    "c10_epochs = 25\n",
    "c10_batch_size = 128\n",
    "c10_num_classes = 10\n",
    "c10_input_shape = c10_x_train.shape[1:]\n",
    "\n",
    "# Pre-processing\n",
    "c10_x_train = c10_x_train.astype('float32')\n",
    "c10_x_test = c10_x_test.astype('float32')\n",
    "c10_x_train = c10_x_train/255\n",
    "c10_x_test = c10_x_test/255\n",
    "c10_y_train = keras.utils.to_categorical(c10_y_train, c10_num_classes)\n",
    "c10_y_test = keras.utils.to_categorical(c10_y_test, c10_num_classes)"
   ]
  },
  {
   "cell_type": "code",
   "execution_count": 6,
   "metadata": {},
   "outputs": [],
   "source": [
    "c10_resnet = ResNet50(c10_input_shape, c10_num_classes)\n",
    "#resnet.summary()"
   ]
  },
  {
   "cell_type": "code",
   "execution_count": 7,
   "metadata": {},
   "outputs": [
    {
     "name": "stdout",
     "output_type": "stream",
     "text": [
      "Epoch 1/25\n",
      "50000/50000 [==============================] - 94s 2ms/step - loss: 1.8825 - accuracy: 0.3776\n",
      "Epoch 2/25\n",
      "50000/50000 [==============================] - 62s 1ms/step - loss: 1.5095 - accuracy: 0.4841\n",
      "Epoch 3/25\n",
      "50000/50000 [==============================] - 62s 1ms/step - loss: 1.4118 - accuracy: 0.5159\n",
      "Epoch 4/25\n",
      "50000/50000 [==============================] - 61s 1ms/step - loss: 1.4042 - accuracy: 0.5123\n",
      "Epoch 5/25\n",
      "50000/50000 [==============================] - 62s 1ms/step - loss: 1.1764 - accuracy: 0.5958\n",
      "Epoch 6/25\n",
      "50000/50000 [==============================] - 62s 1ms/step - loss: 1.2968 - accuracy: 0.5472\n",
      "Epoch 7/25\n",
      "50000/50000 [==============================] - 61s 1ms/step - loss: 1.0824 - accuracy: 0.6258\n",
      "Epoch 8/25\n",
      "50000/50000 [==============================] - 62s 1ms/step - loss: 0.8963 - accuracy: 0.6850\n",
      "Epoch 9/25\n",
      "50000/50000 [==============================] - 62s 1ms/step - loss: 0.7642 - accuracy: 0.7328\n",
      "Epoch 10/25\n",
      "50000/50000 [==============================] - 62s 1ms/step - loss: 0.7194 - accuracy: 0.7509\n",
      "Epoch 11/25\n",
      "50000/50000 [==============================] - 62s 1ms/step - loss: 0.8085 - accuracy: 0.7243\n",
      "Epoch 12/25\n",
      "50000/50000 [==============================] - 62s 1ms/step - loss: 0.5758 - accuracy: 0.7978\n",
      "Epoch 13/25\n",
      "50000/50000 [==============================] - 62s 1ms/step - loss: 0.4813 - accuracy: 0.8294\n",
      "Epoch 14/25\n",
      "50000/50000 [==============================] - 62s 1ms/step - loss: 0.6128 - accuracy: 0.7891\n",
      "Epoch 15/25\n",
      "50000/50000 [==============================] - 62s 1ms/step - loss: 0.4796 - accuracy: 0.8325\n",
      "Epoch 16/25\n",
      "50000/50000 [==============================] - 61s 1ms/step - loss: 0.4401 - accuracy: 0.8478\n",
      "Epoch 17/25\n",
      "50000/50000 [==============================] - 62s 1ms/step - loss: 0.3445 - accuracy: 0.8810\n",
      "Epoch 18/25\n",
      "50000/50000 [==============================] - 61s 1ms/step - loss: 0.2333 - accuracy: 0.9174\n",
      "Epoch 19/25\n",
      "50000/50000 [==============================] - 62s 1ms/step - loss: 0.2012 - accuracy: 0.9289\n",
      "Epoch 20/25\n",
      "50000/50000 [==============================] - 62s 1ms/step - loss: 0.2291 - accuracy: 0.9212\n",
      "Epoch 21/25\n",
      "50000/50000 [==============================] - 61s 1ms/step - loss: 0.1445 - accuracy: 0.9487\n",
      "Epoch 22/25\n",
      "50000/50000 [==============================] - 62s 1ms/step - loss: 0.1350 - accuracy: 0.9522\n",
      "Epoch 23/25\n",
      "50000/50000 [==============================] - 62s 1ms/step - loss: 0.1197 - accuracy: 0.9583\n",
      "Epoch 24/25\n",
      "50000/50000 [==============================] - 62s 1ms/step - loss: 0.1157 - accuracy: 0.9591\n",
      "Epoch 25/25\n",
      "50000/50000 [==============================] - 62s 1ms/step - loss: 0.1179 - accuracy: 0.9594\n"
     ]
    },
    {
     "data": {
      "text/plain": [
       "<keras.callbacks.callbacks.History at 0x7f76e1cfcef0>"
      ]
     },
     "execution_count": 7,
     "metadata": {},
     "output_type": "execute_result"
    }
   ],
   "source": [
    "c10_resnet.compile(optimizer='adam', loss='categorical_crossentropy', metrics=['accuracy'])\n",
    "c10_resnet.fit(c10_x_train, c10_y_train, epochs = c10_epochs, batch_size = c10_batch_size)"
   ]
  },
  {
   "cell_type": "code",
   "execution_count": 8,
   "metadata": {},
   "outputs": [
    {
     "name": "stdout",
     "output_type": "stream",
     "text": [
      "10000/10000 [==============================] - 10s 964us/step\n",
      "Test loss: 1.603287338256836\n",
      "Test accuracy: 0.6518999934196472\n"
     ]
    }
   ],
   "source": [
    "scores = c10_resnet.evaluate(c10_x_test, c10_y_test)\n",
    "print('Test loss:', scores[0])\n",
    "print('Test accuracy:', scores[1])"
   ]
  },
  {
   "cell_type": "code",
   "execution_count": 9,
   "metadata": {},
   "outputs": [],
   "source": [
    "c10_resnet.save('c10_resnet50.h5')\n",
    "c10_resnet.save_weights('c10_resnet50_weights.h5')"
   ]
  },
  {
   "cell_type": "markdown",
   "metadata": {},
   "source": [
    "## CIFAR-100"
   ]
  },
  {
   "cell_type": "code",
   "execution_count": 12,
   "metadata": {},
   "outputs": [],
   "source": [
    "# Load data\n",
    "(c100_x_train, c100_y_train), (c100_x_test, c100_y_test) = cifar100.load_data()\n",
    "\n",
    "# Hyper-parameters\n",
    "c100_epochs = 50\n",
    "c100_batch_size = 128\n",
    "c100_num_classes = 100\n",
    "c100_input_shape = c100_x_train.shape[1:]\n",
    "\n",
    "# Pre-processing\n",
    "c100_x_train = c100_x_train.astype('float32')\n",
    "c100_x_test = c100_x_test.astype('float32')\n",
    "c100_x_train = c100_x_train/255\n",
    "c100_x_test = c100_x_test/255\n",
    "c100_y_train = keras.utils.to_categorical(c100_y_train, c100_num_classes)\n",
    "c100_y_test = keras.utils.to_categorical(c100_y_test, c100_num_classes)"
   ]
  },
  {
   "cell_type": "code",
   "execution_count": 15,
   "metadata": {},
   "outputs": [],
   "source": [
    "c100_resnet = ResNet50(c100_input_shape, c100_num_classes)\n",
    "#resnet.summary()"
   ]
  },
  {
   "cell_type": "code",
   "execution_count": 16,
   "metadata": {},
   "outputs": [
    {
     "name": "stdout",
     "output_type": "stream",
     "text": [
      "Epoch 1/50\n",
      "50000/50000 [==============================] - 89s 2ms/step - loss: 4.3600 - accuracy: 0.0858\n",
      "Epoch 2/50\n",
      "50000/50000 [==============================] - 61s 1ms/step - loss: 3.5302 - accuracy: 0.1735\n",
      "Epoch 3/50\n",
      "50000/50000 [==============================] - 61s 1ms/step - loss: 3.1701 - accuracy: 0.2293\n",
      "Epoch 4/50\n",
      "50000/50000 [==============================] - 61s 1ms/step - loss: 3.0435 - accuracy: 0.2556\n",
      "Epoch 5/50\n",
      "50000/50000 [==============================] - 61s 1ms/step - loss: 2.7241 - accuracy: 0.3151\n",
      "Epoch 6/50\n",
      "50000/50000 [==============================] - 61s 1ms/step - loss: 2.4980 - accuracy: 0.3649\n",
      "Epoch 7/50\n",
      "50000/50000 [==============================] - 61s 1ms/step - loss: 2.2493 - accuracy: 0.4137\n",
      "Epoch 8/50\n",
      "50000/50000 [==============================] - 61s 1ms/step - loss: 2.0092 - accuracy: 0.4691\n",
      "Epoch 9/50\n",
      "50000/50000 [==============================] - 61s 1ms/step - loss: 1.8249 - accuracy: 0.5074\n",
      "Epoch 10/50\n",
      "50000/50000 [==============================] - 61s 1ms/step - loss: 1.6649 - accuracy: 0.5457\n",
      "Epoch 11/50\n",
      "50000/50000 [==============================] - 61s 1ms/step - loss: 1.3463 - accuracy: 0.6235\n",
      "Epoch 12/50\n",
      "50000/50000 [==============================] - 61s 1ms/step - loss: 1.0629 - accuracy: 0.6945\n",
      "Epoch 13/50\n",
      "50000/50000 [==============================] - 62s 1ms/step - loss: 0.8342 - accuracy: 0.7587\n",
      "Epoch 14/50\n",
      "50000/50000 [==============================] - 62s 1ms/step - loss: 0.6411 - accuracy: 0.8143\n",
      "Epoch 15/50\n",
      "50000/50000 [==============================] - 62s 1ms/step - loss: 0.5065 - accuracy: 0.8504\n",
      "Epoch 16/50\n",
      "50000/50000 [==============================] - 62s 1ms/step - loss: 0.3646 - accuracy: 0.8976\n",
      "Epoch 17/50\n",
      "50000/50000 [==============================] - 62s 1ms/step - loss: 0.2932 - accuracy: 0.9172\n",
      "Epoch 18/50\n",
      "50000/50000 [==============================] - 62s 1ms/step - loss: 0.2530 - accuracy: 0.9289\n",
      "Epoch 19/50\n",
      "50000/50000 [==============================] - 62s 1ms/step - loss: 0.2432 - accuracy: 0.9325\n",
      "Epoch 20/50\n",
      "50000/50000 [==============================] - 62s 1ms/step - loss: 0.2444 - accuracy: 0.9309\n",
      "Epoch 21/50\n",
      "50000/50000 [==============================] - 62s 1ms/step - loss: 0.2253 - accuracy: 0.9369\n",
      "Epoch 22/50\n",
      "50000/50000 [==============================] - 62s 1ms/step - loss: 0.2310 - accuracy: 0.9380\n",
      "Epoch 23/50\n",
      "50000/50000 [==============================] - 62s 1ms/step - loss: 0.1916 - accuracy: 0.9452\n",
      "Epoch 24/50\n",
      "50000/50000 [==============================] - 62s 1ms/step - loss: 0.1553 - accuracy: 0.9581\n",
      "Epoch 25/50\n",
      "50000/50000 [==============================] - 62s 1ms/step - loss: 0.1713 - accuracy: 0.9537\n",
      "Epoch 26/50\n",
      "50000/50000 [==============================] - 62s 1ms/step - loss: 0.1414 - accuracy: 0.9621\n",
      "Epoch 27/50\n",
      "50000/50000 [==============================] - 62s 1ms/step - loss: 0.1428 - accuracy: 0.9601\n",
      "Epoch 28/50\n",
      "50000/50000 [==============================] - 62s 1ms/step - loss: 0.1759 - accuracy: 0.9506\n",
      "Epoch 29/50\n",
      "50000/50000 [==============================] - 62s 1ms/step - loss: 0.1668 - accuracy: 0.9548\n",
      "Epoch 30/50\n",
      "50000/50000 [==============================] - 62s 1ms/step - loss: 0.1155 - accuracy: 0.9695\n",
      "Epoch 31/50\n",
      "50000/50000 [==============================] - 62s 1ms/step - loss: 0.0990 - accuracy: 0.9749\n",
      "Epoch 32/50\n",
      "50000/50000 [==============================] - 62s 1ms/step - loss: 0.1270 - accuracy: 0.9639\n",
      "Epoch 33/50\n",
      "50000/50000 [==============================] - 62s 1ms/step - loss: 0.1304 - accuracy: 0.9623\n",
      "Epoch 34/50\n",
      "50000/50000 [==============================] - 62s 1ms/step - loss: 0.1014 - accuracy: 0.9710\n",
      "Epoch 35/50\n",
      "50000/50000 [==============================] - 62s 1ms/step - loss: 0.1017 - accuracy: 0.9718\n",
      "Epoch 36/50\n",
      "50000/50000 [==============================] - 64s 1ms/step - loss: 0.0924 - accuracy: 0.9746\n",
      "Epoch 37/50\n",
      "50000/50000 [==============================] - 63s 1ms/step - loss: 0.1078 - accuracy: 0.9680\n",
      "Epoch 38/50\n",
      "50000/50000 [==============================] - 63s 1ms/step - loss: 0.0882 - accuracy: 0.9745\n",
      "Epoch 39/50\n",
      "50000/50000 [==============================] - 64s 1ms/step - loss: 0.0766 - accuracy: 0.9775\n",
      "Epoch 40/50\n",
      "50000/50000 [==============================] - 61s 1ms/step - loss: 0.0845 - accuracy: 0.9750\n",
      "Epoch 41/50\n",
      "50000/50000 [==============================] - 61s 1ms/step - loss: 0.0862 - accuracy: 0.9738\n",
      "Epoch 42/50\n",
      "50000/50000 [==============================] - 61s 1ms/step - loss: 0.0926 - accuracy: 0.9718\n",
      "Epoch 43/50\n",
      "50000/50000 [==============================] - 61s 1ms/step - loss: 0.0535 - accuracy: 0.9841\n",
      "Epoch 44/50\n",
      "50000/50000 [==============================] - 61s 1ms/step - loss: 0.0636 - accuracy: 0.9806\n",
      "Epoch 45/50\n",
      "50000/50000 [==============================] - 61s 1ms/step - loss: 0.0780 - accuracy: 0.9756\n",
      "Epoch 46/50\n",
      "50000/50000 [==============================] - 61s 1ms/step - loss: 0.0729 - accuracy: 0.9774\n",
      "Epoch 47/50\n",
      "50000/50000 [==============================] - 61s 1ms/step - loss: 0.0524 - accuracy: 0.9834\n",
      "Epoch 48/50\n",
      "50000/50000 [==============================] - 61s 1ms/step - loss: 0.0591 - accuracy: 0.9813\n",
      "Epoch 49/50\n",
      "50000/50000 [==============================] - 61s 1ms/step - loss: 0.0583 - accuracy: 0.9820\n",
      "Epoch 50/50\n",
      "50000/50000 [==============================] - 61s 1ms/step - loss: 0.0499 - accuracy: 0.9845\n"
     ]
    },
    {
     "data": {
      "text/plain": [
       "<keras.callbacks.callbacks.History at 0x7f73acf6cf60>"
      ]
     },
     "execution_count": 16,
     "metadata": {},
     "output_type": "execute_result"
    }
   ],
   "source": [
    "c100_resnet.compile(optimizer='adam', loss='categorical_crossentropy', metrics=['accuracy'])\n",
    "c100_resnet.fit(c100_x_train, c100_y_train, epochs = c100_epochs, batch_size = c100_batch_size)"
   ]
  },
  {
   "cell_type": "code",
   "execution_count": 17,
   "metadata": {},
   "outputs": [
    {
     "name": "stdout",
     "output_type": "stream",
     "text": [
      "10000/10000 [==============================] - 9s 888us/step\n",
      "Test loss: 5.504680083465576\n",
      "Test accuracy: 0.40220001339912415\n"
     ]
    }
   ],
   "source": [
    "scores = c100_resnet.evaluate(c100_x_test, c100_y_test)\n",
    "print('Test loss:', scores[0])\n",
    "print('Test accuracy:', scores[1])"
   ]
  },
  {
   "cell_type": "code",
   "execution_count": 18,
   "metadata": {},
   "outputs": [],
   "source": [
    "c100_resnet.save('c100_resnet50.h5')\n",
    "c100_resnet.save_weights('c100_resnet50_weights.h5')"
   ]
  },
  {
   "cell_type": "code",
   "execution_count": null,
   "metadata": {},
   "outputs": [],
   "source": []
  }
 ],
 "metadata": {
  "kernelspec": {
   "display_name": "Python 3",
   "language": "python",
   "name": "python3"
  },
  "language_info": {
   "codemirror_mode": {
    "name": "ipython",
    "version": 3
   },
   "file_extension": ".py",
   "mimetype": "text/x-python",
   "name": "python",
   "nbconvert_exporter": "python",
   "pygments_lexer": "ipython3",
   "version": "3.6.8"
  }
 },
 "nbformat": 4,
 "nbformat_minor": 4
}
